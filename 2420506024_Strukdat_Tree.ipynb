{
  "nbformat": 4,
  "nbformat_minor": 0,
  "metadata": {
    "colab": {
      "provenance": [],
      "authorship_tag": "ABX9TyPUYkhVo8mEjHxziCp+Wjn3",
      "include_colab_link": true
    },
    "kernelspec": {
      "name": "python3",
      "display_name": "Python 3"
    },
    "language_info": {
      "name": "python"
    }
  },
  "cells": [
    {
      "cell_type": "markdown",
      "metadata": {
        "id": "view-in-github",
        "colab_type": "text"
      },
      "source": [
        "<a href=\"https://colab.research.google.com/github/zahrahani/struktur-data/blob/main/2420506024_Strukdat_Tree.ipynb\" target=\"_parent\"><img src=\"https://colab.research.google.com/assets/colab-badge.svg\" alt=\"Open In Colab\"/></a>"
      ]
    },
    {
      "cell_type": "code",
      "execution_count": null,
      "metadata": {
        "colab": {
          "base_uri": "https://localhost:8080/"
        },
        "id": "-jd3X0EpKgIe",
        "outputId": "2fb5d0a0-e43a-47fb-87e7-5123c9fa39b3"
      },
      "outputs": [
        {
          "output_type": "stream",
          "name": "stdout",
          "text": [
            "Hasil Inorder Traversal dari Binary Tree:\n",
            "4 2 5 1 3 "
          ]
        }
      ],
      "source": [
        "# Binary Tree secara Manual\n",
        "\n",
        "# Membentuk struktur node\n",
        "class Node:\n",
        "    def __init__(self, data):\n",
        "        self.data = data\n",
        "        self.left = None\n",
        "        self.right = None\n",
        "\n",
        "# Membuat Tree secara manual\n",
        "root = Node(1)\n",
        "root.left = Node(2)\n",
        "root.right = Node(3)\n",
        "root.left.left = Node(4)\n",
        "root.left.right = Node(5)\n",
        "\n",
        "# Fungsi inorder traversal\n",
        "def inorder(node):\n",
        "    if node:\n",
        "        inorder(node.left)\n",
        "        print(node.data, end=' ')\n",
        "        inorder(node.right)\n",
        "\n",
        "# Cetak hasil Inorder Traversal\n",
        "print(\"Hasil Inorder Traversal dari Binary Tree:\")\n",
        "inorder(root)"
      ]
    },
    {
      "cell_type": "code",
      "source": [
        "# Binary Search Tree (BST)\n",
        "\n",
        "# Membentuk struktur node\n",
        "class Node:\n",
        "    def __init__(self, data):\n",
        "        self.data = data\n",
        "        self.left = None\n",
        "        self.right = None\n",
        "\n",
        "# Implementasi BST\n",
        "class BinarySearchTree:\n",
        "    def __init__(self):\n",
        "        self.root = None\n",
        "\n",
        "    def insert(self, root, data):\n",
        "        if root is None:\n",
        "            return Node(data)\n",
        "        if data < root.data:\n",
        "            root.left = self.insert(root.left, data)\n",
        "        else:\n",
        "            root.right = self.insert(root.right, data)\n",
        "        return root\n",
        "\n",
        "# Membuat objek BST\n",
        "bst = BinarySearchTree()\n",
        "root = None\n",
        "\n",
        "# Menambahkan elemen dari data_list ke dalam BST\n",
        "data_list = (50, 30, 70, 20, 40, 60,  80)\n",
        "for value in data_list:\n",
        "    root = bst.insert(root, value)"
      ],
      "metadata": {
        "id": "xIFILGLaSExs"
      },
      "execution_count": null,
      "outputs": []
    },
    {
      "cell_type": "code",
      "source": [
        "# 3 Metode Traversal pada Binary Search Tree (BST)\n",
        "\n",
        "# Implementasi Inorder Traversal\n",
        "def inorder(node):\n",
        "    if node:\n",
        "        inorder(node.left)        # Mengunjungi subtree kiri hingga akhir\n",
        "        print(node.data, end=' ') # Cetak node saat ini\n",
        "        inorder(node.right)       # Mengunjungi subtree kanan hingga akhir\n",
        "\n",
        "# Implementasi Preorder Traversal\n",
        "def preorder(node):\n",
        "    if node:\n",
        "        print(node.data, end=' ') # Cetak node saat ini\n",
        "        preorder(node.left)       # Mengunjungi subtree kiri hingga akhir\n",
        "        preorder(node.right)      # Mengunjungi subtree kanan hingga akhir\n",
        "\n",
        "# Implementasi Postorder Traversal\n",
        "def postorder(node):\n",
        "    if node:\n",
        "        postorder(node.left)      # Mengunjungi subtree kiri hingga akhir\n",
        "        postorder(node.right)     # Mengunjungi subtree kanan hingga akhir\n",
        "        print(node.data, end=' ') # Cetak node saat ini\n",
        "\n",
        "# Cetak Tree Hasil Traversal dengan 3 Metode\n",
        "print(\"Inorder Traversal:\")\n",
        "inorder(root)\n",
        "print()\n",
        "print(\"\\nPreorder Traversal:\")\n",
        "preorder(root)\n",
        "print()\n",
        "print(\"\\nPostorder Traversal:\")\n",
        "postorder(root)"
      ],
      "metadata": {
        "colab": {
          "base_uri": "https://localhost:8080/"
        },
        "id": "gG7C5vy6Ttb-",
        "outputId": "a726ebea-532b-4b11-eca3-5aae3038c0ed"
      },
      "execution_count": null,
      "outputs": [
        {
          "output_type": "stream",
          "name": "stdout",
          "text": [
            "Inorder Traversal:\n",
            "20 30 40 50 60 70 80 \n",
            "\n",
            "Preorder Traversal:\n",
            "50 30 20 40 70 60 80 \n",
            "\n",
            "Postorder Traversal:\n",
            "20 40 30 60 80 70 50 "
          ]
        }
      ]
    },
    {
      "cell_type": "code",
      "source": [
        "# Pencarian Nilai dalam Binary Search Tree (BST)\n",
        "\n",
        "def search(node, key):\n",
        "    # Memeriksa elemen yang dicari, apakah node kosong atau nilai node sama dengan key\n",
        "    if node is None or node.data == key:\n",
        "        return node\n",
        "\n",
        "    if key < node.data:\n",
        "        return search(node.left, key) # Jika key < dari root, lanjutkan pencarian ke kiri\n",
        "    return search(node.right, key)  # Jika key > dari root, lanjutkan pencarian ke kanan\n",
        "\n",
        "# Uji pencarian elemen\n",
        "# 1. mencari elemen 60\n",
        "key = 60\n",
        "result = search(root, key)\n",
        "# Cetak hasil pencarian berdasarkan hasil yang diperoleh fungsi search()\n",
        "if result:\n",
        "    print(f\"{key} ditemukan dalam Tree.\")\n",
        "else:\n",
        "    print(f\"{key} tidak ditemukan.\")\n",
        "\n",
        "# 2. mencari elemen 25\n",
        "key = 25\n",
        "result = search(root, key)\n",
        "# Cetak hasil pencarian berdasarkan hasil yang diperoleh fungsi search()\n",
        "if result:\n",
        "    print(f\"{key} ditemukan dalam Tree.\")\n",
        "else:\n",
        "    print(f\"{key} tidak ditemukan.\")"
      ],
      "metadata": {
        "colab": {
          "base_uri": "https://localhost:8080/"
        },
        "id": "0HSizMWMWPZ1",
        "outputId": "1a6165ae-9032-4076-b3c9-070140c38896"
      },
      "execution_count": null,
      "outputs": [
        {
          "output_type": "stream",
          "name": "stdout",
          "text": [
            "60 ditemukan dalam Tree.\n",
            "25 tidak ditemukan.\n"
          ]
        }
      ]
    }
  ]
}