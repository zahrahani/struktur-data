{
  "nbformat": 4,
  "nbformat_minor": 0,
  "metadata": {
    "colab": {
      "provenance": [],
      "authorship_tag": "ABX9TyOALV0FcJmnA45kUFXhlxif",
      "include_colab_link": true
    },
    "kernelspec": {
      "name": "python3",
      "display_name": "Python 3"
    },
    "language_info": {
      "name": "python"
    }
  },
  "cells": [
    {
      "cell_type": "markdown",
      "metadata": {
        "id": "view-in-github",
        "colab_type": "text"
      },
      "source": [
        "<a href=\"https://colab.research.google.com/github/zahrahani/struktur-data/blob/main/2420506024_Strukdat_Graph.ipynb\" target=\"_parent\"><img src=\"https://colab.research.google.com/assets/colab-badge.svg\" alt=\"Open In Colab\"/></a>"
      ]
    },
    {
      "cell_type": "code",
      "execution_count": 2,
      "metadata": {
        "id": "yghn7Cd2NwM_",
        "colab": {
          "base_uri": "https://localhost:8080/"
        },
        "outputId": "b9d34996-6c68-4fff-8c44-e9c6ff9099f4"
      },
      "outputs": [
        {
          "output_type": "stream",
          "name": "stdout",
          "text": [
            "A ➡️ ['B', 'C']\n",
            "B ➡️ ['A', 'D', 'E']\n",
            "C ➡️ ['A', 'F']\n",
            "D ➡️ ['B']\n",
            "E ➡️ ['B', 'F']\n",
            "F ➡️ ['C', 'E']\n"
          ]
        }
      ],
      "source": [
        "# Membuat graf tak berarah (Undirected Graph) menggunakan Adjacency List\n",
        "\n",
        "# Undirected Graph didefinisikan dalam dictionary (key-value)\n",
        "graph = {\n",
        "    'A': ['B', 'C'],\n",
        "    'B': ['A', 'D', 'E'],\n",
        "    'C': ['A', 'F'],\n",
        "    'D': ['B'],\n",
        "    'E': ['B', 'F'],\n",
        "    'F': ['C', 'E']\n",
        "}\n",
        "\n",
        "# Menampilkan Graph\n",
        "def print_graph(graf):\n",
        "    for node in graf:\n",
        "        print(f\"{node} ➡️ {graf[node]}\")\n",
        "\n",
        "print_graph(graph)"
      ]
    },
    {
      "cell_type": "code",
      "source": [
        "# Traversal Graph menggunakan Breadth First Search (BFS)\n",
        "\n",
        "# Import deque untuk efisiensi Queue\n",
        "from collections import deque\n",
        "\n",
        "# Inisialisasi Graph\n",
        "graph = {\n",
        "    'A': ['B', 'C'],\n",
        "    'B': ['A', 'D', 'E'],\n",
        "    'C': ['A', 'F'],\n",
        "    'D': ['B'],\n",
        "    'E': ['B', 'F'],\n",
        "    'F': ['C', 'E']\n",
        "}\n",
        "\n",
        "# Fungsi bfs untuk traversal Graph\n",
        "def bfs(graph, start):\n",
        "    visited = set()    # untuk menyimpan simpul yang telah dikunjungi\n",
        "    queue = deque([start])    # membuat antrian dan menambahkan simpul awal\n",
        "\n",
        "    # Loop untuk memastikan BFS terus berjalan hingga antrian kosong,\n",
        "    # yaitu ketika semua simpul yang dapat dijangkau dari simpul awal sudah dikunjungi\n",
        "    while queue:\n",
        "        vertex = queue.popleft()  # Ambil simpul dari depan Queue (FIFO)\n",
        "\n",
        "        # Jika simpul belum dikunjungi\n",
        "        if vertex not in visited:\n",
        "            print(vertex, end=' ')   # Mencetak simpul sebagai hasil traversal\n",
        "            visited.add(vertex)      # Menandai simpul yang sudah dikunjungi\n",
        "            queue.extend([neighbor for neighbor in graph[vertex] if neighbor not in visited])   # Menambahkan semua tetangga simpul yang belum dikunjungi ke dalam Queue\n",
        "\n",
        "# Contoh pemanggilan\n",
        "bfs(graph, 'A')   # Menjalankan BFS dari simpul A"
      ],
      "metadata": {
        "colab": {
          "base_uri": "https://localhost:8080/"
        },
        "id": "I8gLzkcAOOsE",
        "outputId": "d8649148-bfa0-4d26-c4a1-6e05861fd527"
      },
      "execution_count": 6,
      "outputs": [
        {
          "output_type": "stream",
          "name": "stdout",
          "text": [
            "A B C D E F "
          ]
        }
      ]
    },
    {
      "cell_type": "code",
      "source": [
        "# Traversal Graph menggunakan Depth First Search (DFS)\n",
        "\n",
        "# Inisialisasi Graph\n",
        "graph = {\n",
        "    'A': ['B', 'C'],\n",
        "    'B': ['A', 'D', 'E'],\n",
        "    'C': ['A', 'F'],\n",
        "    'D': ['B'],\n",
        "    'E': ['B', 'F'],\n",
        "    'F': ['C', 'E']\n",
        "}\n",
        "\n",
        "# Fungsi dfs untuk menjelajahi simpul dengan cara rekursi\n",
        "def dfs(graph, start, visited=None):\n",
        "    # Jika set visited belum ada, inisialisasi sebagai set kosong\n",
        "    if visited is None:\n",
        "        visited = set()\n",
        "\n",
        "    # Jika simpul start belum dikunjungi\n",
        "    if start not in visited:\n",
        "        print(start, end=' ')   # Mencetak simpul yang sedang dikunjungi\n",
        "        visited.add(start)      # Menandai simpul yang sudah dikunjungi\n",
        "\n",
        "        # Loop for: untuk melakukan rekursi bagi setiap tetangga dari simpul yang sedang dikunjungi\n",
        "        for neighbor in graph[start]:\n",
        "            dfs(graph, neighbor, visited)   # Rekursi ke tetangga\n",
        "\n",
        "# Contoh pemanggilan\n",
        "dfs(graph, 'A')   # Menjalankan DFS dari simpul A"
      ],
      "metadata": {
        "colab": {
          "base_uri": "https://localhost:8080/"
        },
        "id": "z8z2NjKfRdE5",
        "outputId": "e1817ede-8956-48ba-8a8d-564d78b06761"
      },
      "execution_count": 7,
      "outputs": [
        {
          "output_type": "stream",
          "name": "stdout",
          "text": [
            "A B D E F C "
          ]
        }
      ]
    },
    {
      "cell_type": "code",
      "source": [
        "# Latihan Personal - Uji pemahaman\n",
        "\n",
        "# Inisialisasi Graph\n",
        "graph = {\n",
        "    'A': ['B', 'C'],\n",
        "    'B': ['A', 'D', 'E'],\n",
        "    'C': ['A', 'F'],\n",
        "    'D': ['B'],\n",
        "    'E': ['B', 'F'],\n",
        "    'F': ['C', 'E']\n",
        "}\n",
        "\n",
        "# Fungsi untuk menghitung jumlah tetangga dari setiap simpul dalam Graph\n",
        "def count_neighbors(graph):\n",
        "    result = {}\n",
        "\n",
        "    # Loop untuk menghitung jumlah tetangga\n",
        "    for node in graph:\n",
        "        result[node] = len(graph[node])\n",
        "    return result   # Mengembalikan hasil disctionary result\n",
        "\n",
        "# Pemanggilan fungsi untuk menampilkan output\n",
        "count_neighbors(graph)"
      ],
      "metadata": {
        "colab": {
          "base_uri": "https://localhost:8080/"
        },
        "id": "ARluyOOtS-jx",
        "outputId": "77136926-74f9-4775-8c63-3edcc5a12b1b"
      },
      "execution_count": 12,
      "outputs": [
        {
          "output_type": "execute_result",
          "data": {
            "text/plain": [
              "{'A': 2, 'B': 3, 'C': 2, 'D': 1, 'E': 2, 'F': 2}"
            ]
          },
          "metadata": {},
          "execution_count": 12
        }
      ]
    }
  ]
}