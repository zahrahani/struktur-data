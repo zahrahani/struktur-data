{
  "nbformat": 4,
  "nbformat_minor": 0,
  "metadata": {
    "colab": {
      "provenance": [],
      "authorship_tag": "ABX9TyOflZOP+XFI8d4KkL8+qTYk",
      "include_colab_link": true
    },
    "kernelspec": {
      "name": "python3",
      "display_name": "Python 3"
    },
    "language_info": {
      "name": "python"
    }
  },
  "cells": [
    {
      "cell_type": "markdown",
      "metadata": {
        "id": "view-in-github",
        "colab_type": "text"
      },
      "source": [
        "<a href=\"https://colab.research.google.com/github/zahrahani/struktur-data/blob/main/2420506024_Tugas_Strukdat_Graph.ipynb\" target=\"_parent\"><img src=\"https://colab.research.google.com/assets/colab-badge.svg\" alt=\"Open In Colab\"/></a>"
      ]
    },
    {
      "cell_type": "markdown",
      "source": [
        "# Latihan/Tugas"
      ],
      "metadata": {
        "id": "-3Z8yDM4tT0n"
      }
    },
    {
      "cell_type": "markdown",
      "source": [
        "1. Membuat Undirected Graph (min. 5 simpul dan 7 sisi), lalu tampilkan dengan fungsi print_graph"
      ],
      "metadata": {
        "id": "h3gZyo8ptN5U"
      }
    },
    {
      "cell_type": "code",
      "execution_count": 25,
      "metadata": {
        "id": "099uTDivXx4m",
        "colab": {
          "base_uri": "https://localhost:8080/"
        },
        "outputId": "564635a8-e083-42e3-b2bc-a31a4d74dd59"
      },
      "outputs": [
        {
          "output_type": "stream",
          "name": "stdout",
          "text": [
            "Undirected Graph:\n",
            " A ➡️ ['B', 'C', 'D']\n",
            " B ➡️ ['A', 'E']\n",
            " C ➡️ ['A', 'F']\n",
            " D ➡️ ['A', 'E']\n",
            " E ➡️ ['B', 'D', 'F', 'G']\n",
            " F ➡️ ['C', 'E', 'G']\n",
            " G ➡️ ['E', 'F']\n"
          ]
        }
      ],
      "source": [
        " # Inisialisasi Graph dengan dictionary\n",
        "graph = {\n",
        "    'A': ['B', 'C', 'D'],\n",
        "    'B': ['A', 'E'],\n",
        "    'C': ['A', 'F'],\n",
        "    'D': ['A', 'E'],\n",
        "    'E': ['B', 'D', 'F', 'G'],\n",
        "    'F': ['C', 'E', 'G'],\n",
        "    'G': ['E', 'F'],\n",
        "}\n",
        "\n",
        "# Fungsi untuk menampilkan Graph\n",
        "def print_graph(graf):\n",
        "    print(\"Undirected Graph:\")\n",
        "    for node in graf:\n",
        "        print(f\" {node} ➡️ {graf[node]}\")\n",
        "\n",
        "print_graph(graph)"
      ]
    },
    {
      "cell_type": "markdown",
      "source": [
        "2. Implementasi BFS dan DFS  dari simpul awal yang dipilih"
      ],
      "metadata": {
        "id": "zY83ifA7aLqY"
      }
    },
    {
      "cell_type": "code",
      "source": [
        "# Implementasi BFS\n",
        "\n",
        "# Import deque untuk efisiensi Queue\n",
        "from collections import deque\n",
        "\n",
        "# Fungsi untuk traversal Graph dengan BFS\n",
        "def bfs(graph, start):\n",
        "    visited = set()           # menyimpan simpul yang telah dikunjungi\n",
        "    queue = deque([start])    # membuat antrian dan menambahkan simpul awal\n",
        "\n",
        "    # Loop untuk memastikan BFS terus berjalan hingga Queue kosong,\n",
        "    # yaitu ketika semua simpul yang dapat dijangkau dari simpul awal sudah dikunjungi\n",
        "    while queue:\n",
        "        vertex = queue.popleft()    # mengambil simpul dari depan Queue (FIFO)\n",
        "\n",
        "        # Kondisi jika simpul belum dikunjungi\n",
        "        if vertex not in visited:\n",
        "            print(vertex, end=' ')  # mencetak simpul\n",
        "            visited.add(vertex)     # menandai simpul yang sudah dikunjungi\n",
        "            queue.extend([neighbor for neighbor in graph[vertex] if neighbor not in visited]) # menambahkan semua tetangga simpul yang belum dikunjungi ke dalam Queue\n",
        "\n",
        "# Implementasi DFS\n",
        "\n",
        "# Fungsi dfs untuk traversal graph dengan cara rekursi\n",
        "def dfs(graph, start, visited=None):\n",
        "    # Jika set visited belum ada (belum ada simpul yang dikunjungi)\n",
        "    if visited is None:\n",
        "        visited = set()   # inisialisasi visited sebagai set kosong\n",
        "\n",
        "    # Jika simpul start (simpul saat ini) belum dikunjungi\n",
        "    if start not in visited:\n",
        "        print(start, end=' ')   # mencetak simpul yang sedang dikunjungi\n",
        "        visited.add(start)      # menandai simpul yang sudah dikunjungi\n",
        "\n",
        "        # Loop untuk melakukan rekursi bagi setiap tetangga dari simpul yang sedang dikunjungi\n",
        "        for neighbor in graph[start]:\n",
        "            dfs(graph, neighbor, visited)\n",
        "\n",
        "# Pemanggilan untuk menjalankan fungsi bfs() dan dfs()\n",
        "print(\" Implementasi BFS dan DFS dari simpul A\")\n",
        "print(\"=\" * 40)\n",
        "print(\"🔎 BFS:\")\n",
        "bfs(graph, 'A')\n",
        "print(\"\\n\\n🔎 DFS:\")\n",
        "dfs(graph, 'A')"
      ],
      "metadata": {
        "colab": {
          "base_uri": "https://localhost:8080/"
        },
        "id": "VDwHu0IDOpZy",
        "outputId": "19b10431-a0c2-47f5-fac6-b285eef9dc54"
      },
      "execution_count": 26,
      "outputs": [
        {
          "output_type": "stream",
          "name": "stdout",
          "text": [
            " Implementasi BFS dan DFS dari simpul A\n",
            "========================================\n",
            "🔎 BFS:\n",
            "A B C D E F G \n",
            "\n",
            "🔎 DFS:\n",
            "A B E D F C G "
          ]
        }
      ]
    },
    {
      "cell_type": "markdown",
      "source": [
        "3. Modifikasi fungsi BFS agar mengembalikan list urutan kunjungan, tidak hanya mencetak"
      ],
      "metadata": {
        "id": "w_3qpJijdzIt"
      }
    },
    {
      "cell_type": "code",
      "source": [
        "# Modifikasi fungsi bfs\n",
        "def bfs_list(graph, start):\n",
        "    visited = set()\n",
        "    queue = deque([start])\n",
        "    traversal = []    # list untuk menyimpan urutan kunjungan simpul\n",
        "\n",
        "    while queue:\n",
        "        vertex = queue.popleft()\n",
        "\n",
        "        # Kondisi jika simpul belum dikunjungi\n",
        "        if vertex not in visited:\n",
        "            traversal.append(vertex)    # menambahkan simpul ke urutan kunjungan\n",
        "            visited.add(vertex)\n",
        "            queue.extend([neighbor for neighbor in graph[vertex] if neighbor not in visited])\n",
        "\n",
        "    return traversal    # mengembalikan list urutan kunjungan simpul\n",
        "\n",
        "# Pemanggilan untuk menjalankan fungsi bfs_list()\n",
        "print(\"👣 Urutan kunjungan simpul dengan BFS dari simpul A:\")\n",
        "bfs_list(graph, 'A')"
      ],
      "metadata": {
        "colab": {
          "base_uri": "https://localhost:8080/"
        },
        "id": "iIvC5XOncq2o",
        "outputId": "e5875f93-fb02-41bf-cc4a-0c5332b53d17"
      },
      "execution_count": 38,
      "outputs": [
        {
          "output_type": "stream",
          "name": "stdout",
          "text": [
            "👣 Urutan kunjungan simpul dengan BFS dari simpul A:\n"
          ]
        },
        {
          "output_type": "execute_result",
          "data": {
            "text/plain": [
              "['A', 'B', 'C', 'D', 'E', 'F', 'G']"
            ]
          },
          "metadata": {},
          "execution_count": 38
        }
      ]
    },
    {
      "cell_type": "markdown",
      "source": [
        "4. Membuat fungsi find_path(graph, start, end) yang mengembalikan satu jalur dari start ke end jika ada, menggunakan DFS"
      ],
      "metadata": {
        "id": "vUlpfw4_gD-Y"
      }
    },
    {
      "cell_type": "code",
      "source": [
        "# Fungsi untuk mencari satu jalur dari simpul start ke simpul end menggunakan DFS\n",
        "def find_path(graph, start, end, path=None):\n",
        "    # Jika salah satu simpul tidak ada di graph, kembalikan None\n",
        "    if start not in graph or end not in graph:\n",
        "        return None\n",
        "\n",
        "    # Jika jalur belum ada, inisialisasi path dengan list kosong\n",
        "    if path is None:\n",
        "        path = []\n",
        "\n",
        "    path.append(start)  # Menambahkan simpul start ke dalam path\n",
        "\n",
        "    # Jika simpul tujuan (end) ditemukan, kembalikan path\n",
        "    if start == end:\n",
        "        return path\n",
        "\n",
        "    # Loop untuk menelusuri semua tetangga dari simpul saat ini\n",
        "    for neighbor in graph[start]:\n",
        "        # Kondisi untuk mencegah terjadinya siklus\n",
        "        # Jika tetangga simpul yang sedang dikunjungi belum ada di path\n",
        "        if neighbor not in path:\n",
        "            new_path = find_path(graph, neighbor, end, path.copy())   # Rekursi fungsi find_path() dengan salinan jalur saat ini\n",
        "            # Jika jalur dari tetangga ke tujuan ditemukan, kembalikan jalur tersebut\n",
        "            if new_path:\n",
        "                return new_path\n",
        "\n",
        "# Pemanggilan fungsi find_path() dengan berbagai kasus\n",
        "print(\" Penelusuran Jalur antar Simpul Menggunakan DFS\")\n",
        "print(\"=\" * 48)\n",
        "print(\"📍Jalur dari simpul A ke E:\")\n",
        "print(find_path(graph, 'A', 'E'))\n",
        "\n",
        "print(\"\\n📍Jalur dari simpul A ke F:\")\n",
        "print(find_path(graph, 'A', 'F'))\n",
        "\n",
        "print(\"\\n📍Jalur dari simpul A ke G:\")\n",
        "print(find_path(graph, 'A', 'G'))\n",
        "\n",
        "print(\"\\n📍Jalur dari simpul A ke H:\")\n",
        "print(find_path(graph, 'A', 'H'))"
      ],
      "metadata": {
        "id": "SljilAB_fqzy",
        "colab": {
          "base_uri": "https://localhost:8080/"
        },
        "outputId": "333934cb-281f-42a4-f89d-f52521d667b1"
      },
      "execution_count": 42,
      "outputs": [
        {
          "output_type": "stream",
          "name": "stdout",
          "text": [
            " Penelusuran Jalur antar Simpul Menggunakan DFS\n",
            "================================================\n",
            "📍Jalur dari simpul A ke E:\n",
            "['A', 'B', 'E']\n",
            "\n",
            "📍Jalur dari simpul A ke F:\n",
            "['A', 'B', 'E', 'F']\n",
            "\n",
            "📍Jalur dari simpul A ke G:\n",
            "['A', 'B', 'E', 'F', 'G']\n",
            "\n",
            "📍Jalur dari simpul A ke H:\n",
            "None\n"
          ]
        }
      ]
    },
    {
      "cell_type": "markdown",
      "source": [
        "5. Menambahkan fungsi is_connected(graph) untuk mengecek apakah semua simpul dalah Graph saling terhubung (gunakan kombinasi DFS + logika)"
      ],
      "metadata": {
        "id": "12e3jmvWb1Fj"
      }
    },
    {
      "cell_type": "code",
      "source": [
        "# Implementasi DFS\n",
        "def dfs(graph, start, visited=None):\n",
        "    # Jike set visited belum ada (belum ada simpul yang dikunjungi)\n",
        "    if visited is None:\n",
        "        visited = set()\n",
        "\n",
        "    # Jika simpul start (simpul saat ini) belum dikunjungi\n",
        "    if start not in visited:\n",
        "        visited.add(start)  # menandai simpul yang sudah di kunjungi\n",
        "\n",
        "        # Loop untuk melakukan rekursi bagi setiap tetangga dari simpul yang sedang dikunjungi\n",
        "        for neighbor in graph[start]:\n",
        "            dfs(graph, neighbor, visited)\n",
        "\n",
        "# Fungsi untuk mengecek apakah simpul dalam graph saling terhubung atau tidak\n",
        "def is_connected(graph):\n",
        "    visited = set()   # menyimpan simpul yang berhasil dikunjungi\n",
        "    start_node = list(graph.keys())[0]    # ambil simpul awal (simpul pertama dalam value list dictionary)\n",
        "    dfs(graph, start_node, visited)       # mulai jalankan dfs dari simpul awal\n",
        "\n",
        "    # Jika jumlah simpul yang dikunjungi sama dengan jumlah semua simpul di graph, berarti graph connected\n",
        "    return len(visited) == len(graph)\n",
        "\n",
        "# Cetak hasil apakah graph saling terhubung atau tidak (True = terhubung, False = tidak terhubung)\n",
        "print(\"🌐 Apakah semua simpul dalam Graph saling terhubung?\", is_connected(graph))"
      ],
      "metadata": {
        "colab": {
          "base_uri": "https://localhost:8080/"
        },
        "id": "YEcs-HvGZReW",
        "outputId": "fb7dd845-d063-4dac-90cc-0a06e3f74d4b"
      },
      "execution_count": 46,
      "outputs": [
        {
          "output_type": "stream",
          "name": "stdout",
          "text": [
            "🌐 Apakah semua simpul dalam Graph saling terhubung? True\n"
          ]
        }
      ]
    }
  ]
}