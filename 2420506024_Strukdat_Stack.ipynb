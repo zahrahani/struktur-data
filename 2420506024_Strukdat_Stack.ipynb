{
  "nbformat": 4,
  "nbformat_minor": 0,
  "metadata": {
    "colab": {
      "provenance": [],
      "collapsed_sections": [
        "0JUpQ-zGNzMh",
        "1vf6XLkqAuPq",
        "hlADXOwaBfIF"
      ],
      "authorship_tag": "ABX9TyOreBuKEiQ+jcNDbNlh4zkN",
      "include_colab_link": true
    },
    "kernelspec": {
      "name": "python3",
      "display_name": "Python 3"
    },
    "language_info": {
      "name": "python"
    }
  },
  "cells": [
    {
      "cell_type": "markdown",
      "metadata": {
        "id": "view-in-github",
        "colab_type": "text"
      },
      "source": [
        "<a href=\"https://colab.research.google.com/github/zahrahani/struktur-data/blob/main/2420506024_Strukdat_Stack.ipynb\" target=\"_parent\"><img src=\"https://colab.research.google.com/assets/colab-badge.svg\" alt=\"Open In Colab\"/></a>"
      ]
    },
    {
      "cell_type": "markdown",
      "source": [
        "# Stack"
      ],
      "metadata": {
        "id": "imV4w_NANwIi"
      }
    },
    {
      "cell_type": "markdown",
      "source": [
        "## Operasi Stack"
      ],
      "metadata": {
        "id": "0JUpQ-zGNzMh"
      }
    },
    {
      "cell_type": "code",
      "execution_count": null,
      "metadata": {
        "colab": {
          "base_uri": "https://localhost:8080/"
        },
        "id": "_CpPvp18uUt3",
        "outputId": "e87f0f15-668a-464a-f31c-f196a05df692"
      },
      "outputs": [
        {
          "output_type": "stream",
          "name": "stdout",
          "text": [
            "[5]\n"
          ]
        }
      ],
      "source": [
        "# Push -- Menambah Elemen ke Stack\n",
        "\n",
        "class Stack:\n",
        "    def __init__(self):\n",
        "        self.stack = []\n",
        "\n",
        "    def push(self, item):\n",
        "        self.stack.append(item)\n",
        "\n",
        "# Contoh penggunaan\n",
        "s = Stack()\n",
        "s.push(5)\n",
        "print(s.stack)"
      ]
    },
    {
      "cell_type": "code",
      "source": [
        "# Pop -- Menghapus Elemen dalam Stack\n",
        "\n",
        "class Stack:\n",
        "    def __init__(self):\n",
        "        self.stack = []\n",
        "\n",
        "    def push(self, item):\n",
        "        self.stack.append(item)\n",
        "\n",
        "    def pop(self):\n",
        "        if len(self.stack) == 0:\n",
        "            return \"Stack Kosong!\"\n",
        "        return self.stack.pop()\n",
        "\n",
        "# Contoh penggunaan\n",
        "s = Stack()\n",
        "s.push(5)\n",
        "s.push(10)\n",
        "print(s.pop())\n",
        "print(s.stack)"
      ],
      "metadata": {
        "colab": {
          "base_uri": "https://localhost:8080/"
        },
        "id": "zJbIwGG4zP4m",
        "outputId": "15294a14-70fd-4c84-f063-1c3593e53213"
      },
      "execution_count": null,
      "outputs": [
        {
          "output_type": "stream",
          "name": "stdout",
          "text": [
            "10\n",
            "[5]\n"
          ]
        }
      ]
    },
    {
      "cell_type": "code",
      "source": [
        "# Peek -- Melihat Elemen Teratas Stack Tanpa Menghapusnya\n",
        "\n",
        "class Stack:\n",
        "    def __init__(self):\n",
        "        self.stack = []\n",
        "\n",
        "    def push(self, item):\n",
        "        self.stack.append(item)\n",
        "\n",
        "    def peek(self):\n",
        "        if len(self.stack) == 0:\n",
        "            return \"Stack Kosong!\"\n",
        "        return self.stack[-1]\n",
        "\n",
        "# Contoh penggunaan\n",
        "s = Stack()\n",
        "s.push(5)\n",
        "s.push(10)\n",
        "print(s.peek())\n",
        "print(s.stack)"
      ],
      "metadata": {
        "colab": {
          "base_uri": "https://localhost:8080/"
        },
        "id": "Pb9L9fU7xQY_",
        "outputId": "3ed27a0b-85ef-41e1-a34f-7b7584112d8e"
      },
      "execution_count": null,
      "outputs": [
        {
          "output_type": "stream",
          "name": "stdout",
          "text": [
            "10\n",
            "[5, 10]\n"
          ]
        }
      ]
    },
    {
      "cell_type": "code",
      "source": [
        "# isEmpty -- Memeriksa Apakah Stack Kosong atau Tidak\n",
        "\n",
        "class Stack:\n",
        "    def __init__(self):\n",
        "        self.stack = []\n",
        "\n",
        "    def push(self, item):\n",
        "        self.stack.append(item)\n",
        "\n",
        "    def is_empty(self):\n",
        "        return len(self.stack) == 0\n",
        "\n",
        "# Contoh penggunaan\n",
        "s = Stack()\n",
        "print(s.is_empty())\n",
        "s.push(5)\n",
        "print(s.is_empty())"
      ],
      "metadata": {
        "colab": {
          "base_uri": "https://localhost:8080/"
        },
        "id": "5z4Y8KwZzIW2",
        "outputId": "8be28a48-39eb-4ca8-a1cb-8a9350cab1c4"
      },
      "execution_count": null,
      "outputs": [
        {
          "output_type": "stream",
          "name": "stdout",
          "text": [
            "True\n",
            "False\n"
          ]
        }
      ]
    },
    {
      "cell_type": "markdown",
      "source": [
        "## Praktikum"
      ],
      "metadata": {
        "id": "VqBJ6hKTkZwd"
      }
    },
    {
      "cell_type": "markdown",
      "source": [
        "### 1. Implementasi Stack dengan List Python"
      ],
      "metadata": {
        "id": "1hqueU-8klIr"
      }
    },
    {
      "cell_type": "code",
      "source": [
        "# Fitur \"Undo\" dalam Text Editor (pop())\n",
        "\n",
        "class TextEditor:\n",
        "    def __init__(self):\n",
        "        self.history = []\n",
        "\n",
        "    def write(self, text):\n",
        "        self.history.append(text)\n",
        "\n",
        "    def undo(self):\n",
        "        if self.history:\n",
        "            return f\"Undo: Menghapus '{self.history.pop()}'\"\n",
        "        return \"Tidak ada yang bisa di-undo\"\n",
        "\n",
        "# Contoh Penggunaan\n",
        "editor = TextEditor()\n",
        "editor.write(\"Halo, ini teks pertama.\")\n",
        "editor.write(\"Ini teks kedua.\")\n",
        "editor.write(\"Ini teks ketiga.\")\n",
        "\n",
        "print(editor.undo())\n",
        "print(editor.undo())\n",
        "print(editor.undo())\n",
        "print(editor.undo())"
      ],
      "metadata": {
        "colab": {
          "base_uri": "https://localhost:8080/"
        },
        "id": "WA2dZxvh0uWf",
        "outputId": "71541569-2f3e-4e3e-d0c1-45db554d498d"
      },
      "execution_count": null,
      "outputs": [
        {
          "output_type": "stream",
          "name": "stdout",
          "text": [
            "Undo: Menghapus 'Ini teks ketiga.'\n",
            "Undo: Menghapus 'Ini teks kedua.'\n",
            "Undo: Menghapus 'Halo, ini teks pertama.'\n",
            "Tidak ada yang bisa di-undo\n"
          ]
        }
      ]
    },
    {
      "cell_type": "code",
      "source": [
        "# Latihan 1\n",
        "# Program Undo Perintah Kalkulator\n",
        "\n",
        "# Kelas untuk menyimpan dan mengelola operasi perhitungan dalam Stack\n",
        "class Kalkulator:\n",
        "    # Stack untuk menyimpan riwayat operasi\n",
        "    def __init__(self, angka_awal):\n",
        "        self.history_operasi = []\n",
        "        self.hasil = angka_awal\n",
        "\n",
        "    # Fungsi untuk menghitung dan menambahkan operasi ke dalam Stack\n",
        "    def operasi(self, operator, angka):\n",
        "        hasil_sebelumnya = self.hasil\n",
        "\n",
        "        if operator == \"+\":\n",
        "            self.hasil += angka\n",
        "        elif operator == \"-\":\n",
        "            self.hasil -= angka\n",
        "        elif operator == \"*\":\n",
        "            self.hasil *= angka\n",
        "        elif operator == \"/\":\n",
        "            if angka != 0:\n",
        "              self.hasil /= angka\n",
        "            else:\n",
        "               print(\"⚠️ Error: Tidak bisa membagi angka dengan nol!\")\n",
        "               return\n",
        "\n",
        "        self.history_operasi.append((operator, angka))\n",
        "        print(f\"🚥 Operasi: {hasil_sebelumnya} {operator} {angka} = {self.hasil}\\n\")\n",
        "\n",
        "    # Fungsi untuk membatalkan (undo) operasi penghitungan pada kalkulator\n",
        "    def undo(self):\n",
        "        if self.history_operasi:\n",
        "            operator, angka = self.history_operasi.pop()\n",
        "            if operator == \"+\":\n",
        "                self.hasil -= angka\n",
        "            elif operator == \"-\":\n",
        "                self.hasil += angka\n",
        "            elif operator == \"*\":\n",
        "                self.hasil /= angka\n",
        "            elif operator == \"/\":\n",
        "                self.hasil *= angka\n",
        "            print(f\"⬅️ Undo: Membatalkan operasi '{operator} {angka}',\\n🧩 Hasil kembali menjadi: {self.hasil}\\n\")\n",
        "        else:\n",
        "            print(\"🚫 Tidak ada yang bisa di-Undo\\n\")\n",
        "\n",
        "# ========= Program Utama ========= #\n",
        "# Meminta input NPM dari user\n",
        "NPM = input(\"Masukkan NPM-mu : \")\n",
        "\n",
        "# Mengambil 2 digit terakhir NPM sebagai angka awal\n",
        "angka_awal = int(NPM[-2:])\n",
        "print(f\"🧩 Angka awal : {angka_awal}\\n\")\n",
        "\n",
        "# Membuat objek kalkulator\n",
        "hitung = Kalkulator(angka_awal)\n",
        "\n",
        "# Menampilkan opsi yang tersedia untuk user\n",
        "while True:\n",
        "    perintah = input(\"Masukkan operasi (+)(-)(*)(/) \\n['Undo' untuk membatalkan]['x' untuk keluar] : \").lower()\n",
        "\n",
        "    # Memproses input user\n",
        "    # Jika user mimilih 'undo' atau 'x'\n",
        "    if perintah == 'undo':\n",
        "        hitung.undo()\n",
        "        continue\n",
        "    elif perintah == 'x':\n",
        "        print(\"👋🏻 Anda Keluar dari program. Terima kasih\")\n",
        "        break\n",
        "\n",
        "    # Validasi operator\n",
        "    if perintah not in ['+', '-', '*', '/', 'undo', 'x']:\n",
        "        print(\"❌ Operator tidak valid!\\n\")\n",
        "        continue\n",
        "\n",
        "    # Validasi input angka\n",
        "    while True:\n",
        "      try:\n",
        "          angka = float(input(\"Masukkan angka : \"))\n",
        "          break\n",
        "      except ValueError:\n",
        "          print(\"❌ Input tidak valid! Masukkan angka dengan benar.\")\n",
        "\n",
        "    # Mulai menghitung\n",
        "    hitung.operasi(perintah, angka)"
      ],
      "metadata": {
        "id": "gQbEUdF61njn",
        "colab": {
          "base_uri": "https://localhost:8080/"
        },
        "outputId": "5b1be639-38f5-4681-af26-85d20611835f"
      },
      "execution_count": null,
      "outputs": [
        {
          "output_type": "stream",
          "name": "stdout",
          "text": [
            "Masukkan NPM-mu : 2420506024\n",
            "🧩 Angka awal : 24\n",
            "\n",
            "Masukkan operasi (+)(-)(*)(/) \n",
            "['Undo' untuk membatalkan]['x' untuk keluar] : +\n",
            "Masukkan angka : 2\n",
            "🚥 Operasi: 24 + 2.0 = 26.0\n",
            "\n",
            "Masukkan operasi (+)(-)(*)(/) \n",
            "['Undo' untuk membatalkan]['x' untuk keluar] : -\n",
            "Masukkan angka : 6\n",
            "🚥 Operasi: 26.0 - 6.0 = 20.0\n",
            "\n",
            "Masukkan operasi (+)(-)(*)(/) \n",
            "['Undo' untuk membatalkan]['x' untuk keluar] : u\n",
            "❌ Operator tidak valid!\n",
            "\n",
            "Masukkan operasi (+)(-)(*)(/) \n",
            "['Undo' untuk membatalkan]['x' untuk keluar] : *\n",
            "Masukkan angka : lima\n",
            "❌ Input tidak valid! Masukkan angka dengan benar.\n",
            "Masukkan angka : 5\n",
            "🚥 Operasi: 20.0 * 5.0 = 100.0\n",
            "\n",
            "Masukkan operasi (+)(-)(*)(/) \n",
            "['Undo' untuk membatalkan]['x' untuk keluar] : undo\n",
            "⬅️ Undo: Membatalkan operasi '* 5.0',\n",
            "🧩 Hasil kembali menjadi: 20.0\n",
            "\n",
            "Masukkan operasi (+)(-)(*)(/) \n",
            "['Undo' untuk membatalkan]['x' untuk keluar] : undo\n",
            "⬅️ Undo: Membatalkan operasi '- 6.0',\n",
            "🧩 Hasil kembali menjadi: 26.0\n",
            "\n",
            "Masukkan operasi (+)(-)(*)(/) \n",
            "['Undo' untuk membatalkan]['x' untuk keluar] : undo\n",
            "⬅️ Undo: Membatalkan operasi '+ 2.0',\n",
            "🧩 Hasil kembali menjadi: 24.0\n",
            "\n",
            "Masukkan operasi (+)(-)(*)(/) \n",
            "['Undo' untuk membatalkan]['x' untuk keluar] : undo\n",
            "🚫 Tidak ada yang bisa di-Undo\n",
            "\n",
            "Masukkan operasi (+)(-)(*)(/) \n",
            "['Undo' untuk membatalkan]['x' untuk keluar] : x\n",
            "👋🏻 Anda Keluar dari program. Terima kasih\n"
          ]
        }
      ]
    },
    {
      "cell_type": "markdown",
      "source": [
        "### 2. Implementasi Stack dengan collections.deque"
      ],
      "metadata": {
        "id": "1vf6XLkqAuPq"
      }
    },
    {
      "cell_type": "code",
      "source": [
        "# Navigasi History Browser (push())\n",
        "\n",
        "from collections import deque\n",
        "\n",
        "class BrowserHistory:\n",
        "    def __init__(self):\n",
        "        self.history = deque()\n",
        "\n",
        "    def visit(self, url):\n",
        "        self.history.append(url)\n",
        "        print(f\"Mengunjungi: {url}\")\n",
        "\n",
        "    def back(self):\n",
        "        if self.history:\n",
        "            print(f\"Kembali ke: {self.history.pop()}\")\n",
        "        else:\n",
        "            print(\"Tidak ada riwayat!\")\n",
        "\n",
        "# Contoh Penggunaan\n",
        "browser = BrowserHistory()\n",
        "browser.visit(\"google.com\")\n",
        "browser.visit(\"youtube.com\")\n",
        "browser.visit(\"github.com\")\n",
        "print()\n",
        "browser.back()\n",
        "browser.back()\n",
        "browser.back()\n",
        "browser.back()"
      ],
      "metadata": {
        "colab": {
          "base_uri": "https://localhost:8080/"
        },
        "id": "OFE_5mBZ3J3P",
        "outputId": "c7d8cf1c-9f52-478a-f973-b60445ac218b"
      },
      "execution_count": null,
      "outputs": [
        {
          "output_type": "stream",
          "name": "stdout",
          "text": [
            "Mengunjungi: google.com\n",
            "Mengunjungi: youtube.com\n",
            "Mengunjungi: github.com\n",
            "\n",
            "Kembali ke: github.com\n",
            "Kembali ke: youtube.com\n",
            "Kembali ke: google.com\n",
            "Tidak ada riwayat!\n"
          ]
        }
      ]
    },
    {
      "cell_type": "code",
      "source": [
        "# Latihan 2\n",
        "# Program Navigasi History Aplikasi Mobile\n",
        "\n",
        "from collections import deque\n",
        "\n",
        "# Kelas untuk menyimpan riwayat fitur yang dikunjungi di aplikasi mobile\n",
        "class AppHistory:\n",
        "    # Stack untuk menyimpan history\n",
        "    def __init__(self):\n",
        "        self.history = deque()\n",
        "\n",
        "    # Fungsi untuk menambahkan riwayat fitur yang dikunjungi ke Stack\n",
        "    def kunjunganfitur(self, fitur):\n",
        "        self.history.append(fitur)\n",
        "        print(f\"⌛ Mengunjungi fitur: {fitur}\")\n",
        "\n",
        "    # Fungsi kembali ke fitur sebelumnya dalam Stack\n",
        "    def back(self):\n",
        "        if self.history:\n",
        "            print(f\"🔙 Kembali ke: {self.history.pop()}\")\n",
        "        else:\n",
        "            print(\"🚫 Tidak ada riwayat!\")\n",
        "\n",
        "# ======= Program Utama ======= #\n",
        "# Meminta input pengguna\n",
        "bulan_lahir = input(\"Masukkan bulan lahir (ex. Januari): \")\n",
        "NPM = input(\"Masukkan NPM-mu: \")\n",
        "print()\n",
        "\n",
        "# Membuat nama fitur berdasarkan huruf pertama bulan lahir dan 2 digit terakhir NPM\n",
        "namafitur = bulan_lahir[0].upper() + NPM[-2:]\n",
        "\n",
        "# Objek navigasi untuk menyimpan riwayat fitur yang dikunjungi\n",
        "navigasi = AppHistory()\n",
        "\n",
        "# Menyimpan minimal 3 fitur yang dikunjungi ke dalam Stack\n",
        "navigasi.kunjunganfitur(f\"{namafitur}-01\")\n",
        "navigasi.kunjunganfitur(f\"{namafitur}-02\")\n",
        "navigasi.kunjunganfitur(f\"{namafitur}-03\")\n",
        "\n",
        "# Menampilkan opsi yang tersedia untuk pengguna\n",
        "while True:\n",
        "    command = input(\"\\nTekan 'b' untuk kembali, 'x' untuk exit : \").lower()\n",
        "\n",
        "    # Memproses input pengguna\n",
        "    if command == 'b':\n",
        "        navigasi.back()\n",
        "    elif command == 'x':\n",
        "        print(\"👋🏻 Keluar dari program. Terima kasih!\")\n",
        "        break\n",
        "    else:\n",
        "        print(\"❌ Invalid input!\")"
      ],
      "metadata": {
        "id": "LoLMn7Ui6zzs",
        "colab": {
          "base_uri": "https://localhost:8080/"
        },
        "outputId": "9f7a4782-58f5-4d33-8386-b84133c6afc9"
      },
      "execution_count": 1,
      "outputs": [
        {
          "output_type": "stream",
          "name": "stdout",
          "text": [
            "Masukkan bulan lahir (ex. Januari): april\n",
            "Masukkan NPM-mu: 2420506024\n",
            "\n",
            "⌛ Mengunjungi fitur: A24-01\n",
            "⌛ Mengunjungi fitur: A24-02\n",
            "⌛ Mengunjungi fitur: A24-03\n",
            "\n",
            "Tekan 'b' untuk kembali, 'x' untuk exit : <\n",
            "❌ Invalid input!\n",
            "\n",
            "Tekan 'b' untuk kembali, 'x' untuk exit : b\n",
            "🔙 Kembali ke: A24-03\n",
            "\n",
            "Tekan 'b' untuk kembali, 'x' untuk exit : b\n",
            "🔙 Kembali ke: A24-02\n",
            "\n",
            "Tekan 'b' untuk kembali, 'x' untuk exit : b\n",
            "🔙 Kembali ke: A24-01\n",
            "\n",
            "Tekan 'b' untuk kembali, 'x' untuk exit : b\n",
            "🚫 Tidak ada riwayat!\n",
            "\n",
            "Tekan 'b' untuk kembali, 'x' untuk exit : x\n",
            "👋🏻 Keluar dari program. Terima kasih!\n"
          ]
        }
      ]
    },
    {
      "cell_type": "markdown",
      "source": [
        "### 3. Implementasi Stack dengan queue.LifoQueue"
      ],
      "metadata": {
        "id": "lCl4vKTWBP-Q"
      }
    },
    {
      "cell_type": "code",
      "source": [
        "# Sistem pencadangan File (peek())\n",
        "\n",
        "from queue import LifoQueue\n",
        "\n",
        "class BackupSystem:\n",
        "    def __init__(self):\n",
        "        self.backups = LifoQueue()\n",
        "\n",
        "    def backup(self, version):\n",
        "        self.backups.put(version)\n",
        "\n",
        "    def latest_backup(self):\n",
        "        if not self.backups.empty():\n",
        "            return f\"Versi terbaru: {self.backups.queue[-1]}\"\n",
        "        return \"Tidak ada cadangan!\"\n",
        "\n",
        "# Contoh Penggunaan\n",
        "backup_system = BackupSystem()\n",
        "backup_system.backup(\"Backup_1\")\n",
        "backup_system.backup(\"Backup_2\")\n",
        "backup_system.backup(\"Backup_3\")\n",
        "\n",
        "print(backup_system.latest_backup())"
      ],
      "metadata": {
        "colab": {
          "base_uri": "https://localhost:8080/"
        },
        "id": "Dc02mZyd65gT",
        "outputId": "657c1c16-e2bb-4aa9-bad3-c07643abc9ae"
      },
      "execution_count": null,
      "outputs": [
        {
          "output_type": "stream",
          "name": "stdout",
          "text": [
            "Tidak ada cadangan!\n"
          ]
        }
      ]
    },
    {
      "cell_type": "code",
      "source": [
        "# Latihan 3\n",
        "# Sistem Penyimpanan Draft Email\n",
        "\n",
        "from queue import LifoQueue\n",
        "\n",
        "# Kelas untuk menyimpan draft email dalam Stack\n",
        "class DraftEmail:\n",
        "    # Stack untuk menyimpan draft email\n",
        "    def __init__(self):\n",
        "        self.drafts = LifoQueue()\n",
        "\n",
        "    # Fungsi untuk menyimpan draft email dengan format (subjek, isi) ke dalam Stack\n",
        "    def savedrafts(self, subjek, isi):\n",
        "        self.drafts.put((subjek, isi))\n",
        "        print(f\"✉️ Draft email dengan subjek '{subjek}' disimpan!\")\n",
        "\n",
        "    # Fungsi untuk menampilkan draft email terakhir\n",
        "    def latestdraft(self):\n",
        "        if not self.drafts.empty():\n",
        "            subject, isi = self.drafts.queue[-1]\n",
        "            print(f\"\\n📧 Draft terakhir 📧 \\n👤 Subjek: {subjek}\\n📃 Isi: {isi}\\n\")\n",
        "            return\n",
        "        else:\n",
        "            print(\"🚫 Tidak ada draft yang tersimpan!\")\n",
        "            return\n",
        "\n",
        "# ======= Program utama ======= #\n",
        "# Meminta input user\n",
        "nama = input(\"Masukkan nama panggilanmu :\")\n",
        "NPM = input(\"Masukkan NPM-mu :\")\n",
        "\n",
        "# Mengambil 2 huruf pertama nama + dua digit terakhir NPM untuk subjek email\n",
        "subjek = nama[:2].upper() + NPM[-2:]\n",
        "print(f\"\\n👤 Subjek: {subjek}\\n\")\n",
        "\n",
        "# Definisi objek untuk menyimpan draft email\n",
        "draft = DraftEmail()\n",
        "\n",
        "# Loop untuk membuat dan menyimpan 3 draft email\n",
        "for i in range(3):\n",
        "    isi = input(f\"📝 Isi email ke subjek {subjek} : \")\n",
        "    draft.savedrafts(subjek, isi)\n",
        "    print(f\"✅ Draft ke-{i+1} telah disimpan!\\n\")\n",
        "\n",
        "# Menampilkan opsi yang tersedia untuk user\n",
        "while True:\n",
        "    print(\"⭐ Opsi: \\np = Tampilkan draft terakhir \\nx = Keluar dari program\")\n",
        "    pilihan = input(\"Pilih opsi:  \").lower()\n",
        "\n",
        "    # Memproses input user\n",
        "    if pilihan == 'p':        # Jika user memilih lihat draft terakhir\n",
        "        draft.latestdraft()\n",
        "    elif pilihan == 'x':      # Jika user memilih keluar dari program\n",
        "        print(\"👋 Keluar dari program. Terima kasih!\\n\")\n",
        "        break\n",
        "    else:\n",
        "        print(\"❌ Opsi tidak valid! Silakan pilih [p] atau [x].\\n\")"
      ],
      "metadata": {
        "id": "CVKt3hTFkspS",
        "colab": {
          "base_uri": "https://localhost:8080/"
        },
        "outputId": "7da3b874-ce3c-46b0-8693-e5fc57a34425"
      },
      "execution_count": 3,
      "outputs": [
        {
          "output_type": "stream",
          "name": "stdout",
          "text": [
            "Masukkan nama panggilanmu :hani\n",
            "Masukkan NPM-mu :2420506024\n",
            "\n",
            "👤 Subjek: HA24\n",
            "\n",
            "📝 Isi email ke subjek HA24 : haloo\n",
            "✉️ Draft email dengan subjek 'HA24' disimpan!\n",
            "✅ Draft ke-1 telah disimpan!\n",
            "\n",
            "📝 Isi email ke subjek HA24 : nama ku hani\n",
            "✉️ Draft email dengan subjek 'HA24' disimpan!\n",
            "✅ Draft ke-2 telah disimpan!\n",
            "\n",
            "📝 Isi email ke subjek HA24 : salam kenal yaaaa~  ; D\n",
            "✉️ Draft email dengan subjek 'HA24' disimpan!\n",
            "✅ Draft ke-3 telah disimpan!\n",
            "\n",
            "⭐ Opsi: \n",
            "p = Tampilkan draft terakhir \n",
            "x = Keluar dari program\n",
            "Pilih opsi:  p\n",
            "\n",
            "📧 Draft terakhir 📧 \n",
            "👤 Subjek: HA24\n",
            "📃 Isi: salam kenal yaaaa~  ; D\n",
            "\n",
            "⭐ Opsi: \n",
            "p = Tampilkan draft terakhir \n",
            "x = Keluar dari program\n",
            "Pilih opsi:  x\n",
            "👋 Keluar dari program. Terima kasih!\n",
            "\n"
          ]
        }
      ]
    },
    {
      "cell_type": "markdown",
      "source": [
        "### 4. Implementasi Stack dengan OOP"
      ],
      "metadata": {
        "id": "hlADXOwaBfIF"
      }
    },
    {
      "cell_type": "code",
      "source": [
        "# Manajemen Antrean Pelanggan (isEmpty())\n",
        "class CustomerService:\n",
        "    def __init__(self):\n",
        "        self.tickets = []\n",
        "\n",
        "    def add_ticket(self, ticket):\n",
        "        self.tickets.append(ticket)\n",
        "\n",
        "    def process_ticket(self):\n",
        "        if not self.is_empty():\n",
        "            return f\"Memproses tiket: {self.tickets.pop()}\"\n",
        "        return \"Tidak ada tiket yang harus diproses.\"\n",
        "\n",
        "    def is_empty(self):\n",
        "        return len(self.tickets) == 0\n",
        "\n",
        "# Contoh Penggunaan\n",
        "service = CustomerService()\n",
        "service.add_ticket(\"Ticket 001\")\n",
        "service.add_ticket(\"Ticket 002\")\n",
        "\n",
        "print(service.process_ticket())\n",
        "print(service.is_empty)"
      ],
      "metadata": {
        "colab": {
          "base_uri": "https://localhost:8080/"
        },
        "id": "GLSDbXoi8Kg0",
        "outputId": "b8b36a54-58a5-411b-b730-541ffce4ee1f"
      },
      "execution_count": null,
      "outputs": [
        {
          "output_type": "stream",
          "name": "stdout",
          "text": [
            "Memproses tiket: Ticket 002\n",
            "<bound method CustomerService.is_empty of <__main__.CustomerService object at 0x7d6b0a3d2350>>\n"
          ]
        }
      ]
    },
    {
      "cell_type": "code",
      "source": [
        "# Latihan 4\n",
        "# Sistem Antrean Tiket Bioskop\n",
        "\n",
        "# Kelas untuk menyimpan antrean tiket bioskop yang dibeli ke dalam Stack\n",
        "class TiketBioskop:\n",
        "    # Stack untuk menyimpan tiket\n",
        "    def __init__(self):\n",
        "        self.tiket = []\n",
        "\n",
        "    # Fungsi untuk menyimpan tiket yang dibeli ke Stack\n",
        "    def tambahtiket(self, tiket):\n",
        "        self.tiket.append(tiket)\n",
        "        print(f\"🎫 Tiket {tiket} ditambahkan ke antrean.\")\n",
        "\n",
        "    # Fungsi untuk memproses tiket dari tiket terakhir yang dibeli dengan pop()\n",
        "    def prosestiket(self):\n",
        "        if not self.isEmpty():\n",
        "            print(f\"⌛ Memproses tiket: {self.tiket.pop()}\")\n",
        "            return\n",
        "        else:\n",
        "            print(\"🚫 Tidak ada tiket yang harus diproses.\")\n",
        "\n",
        "    # isEmpty() memeriksa kekosongan Stack tiket\n",
        "    def isEmpty(self):\n",
        "        return len(self.tiket) == 0\n",
        "\n",
        "# ======= Program utama ======= #\n",
        "# Meminta input bulan lahir dan NPM\n",
        "bulan_lahir = input(\"Masukkan bulan lahir (ex. Januari): \").upper()\n",
        "NPM = input(\"Masukkan NPM-mu: \")\n",
        "\n",
        "# Membuat nama film berdasarkan huruf pertama bulan lahir dan 2 digit terakhir NPM\n",
        "namafilm = bulan_lahir[0] + NPM[-2:]\n",
        "print(f\"\\n🎥 Film {namafilm}\")\n",
        "\n",
        "# Objek untuk antrean tiket bioskop\n",
        "antretiket = TiketBioskop()\n",
        "\n",
        "# Meminta input jumlah tiket yang ingin dibeli\n",
        "belitiket = int(input(\"\\n🎫 Jumlah tiket yang dibeli: \"))\n",
        "for i in range(belitiket):\n",
        "    antretiket.tambahtiket(f\"{namafilm}-Tiket0{i+1}\")\n",
        "\n",
        "# Menampilkan opsi yang tersedia untuk user\n",
        "print(\"\\n⭐ Opsi: \\np = Proses tiket \\nx = Keluar dari program\")\n",
        "while True:\n",
        "    pilihan = input(\"\\nMasukkan opsi : \").lower()\n",
        "\n",
        "    # Memproses input user\n",
        "    if pilihan == 'p':\n",
        "        antretiket.prosestiket()\n",
        "    elif pilihan == 'x':\n",
        "        print(\"👋 Keluar dari program. Terima kasih!\\n\")\n",
        "        break\n",
        "    else:\n",
        "        print(\"❌ Opsi tidak valid! Silakan pilih [p] atau [x].\\n\")"
      ],
      "metadata": {
        "colab": {
          "base_uri": "https://localhost:8080/"
        },
        "id": "vN6oVNJjbfdM",
        "outputId": "c6e15c3f-22ea-4cf1-9a7c-2cada4680a7f"
      },
      "execution_count": null,
      "outputs": [
        {
          "output_type": "stream",
          "name": "stdout",
          "text": [
            "Masukkan bulan lahir (ex. Januari): april\n",
            "Masukkan NPM-mu: 24\n",
            "\n",
            "🎥 Film A24\n",
            "\n",
            "🎫 Jumlah tiket yang dibeli: 4\n",
            "🎫 Tiket A24-Tiket01 ditambahkan ke antrean.\n",
            "🎫 Tiket A24-Tiket02 ditambahkan ke antrean.\n",
            "🎫 Tiket A24-Tiket03 ditambahkan ke antrean.\n",
            "🎫 Tiket A24-Tiket04 ditambahkan ke antrean.\n",
            "\n",
            "⭐ Opsi: \n",
            "p = Proses tiket \n",
            "x = Keluar dari program\n",
            "\n",
            "Masukkan opsi : p\n",
            "⌛ Memproses tiket: A24-Tiket04\n",
            "\n",
            "Masukkan opsi : p\n",
            "⌛ Memproses tiket: A24-Tiket03\n",
            "\n",
            "Masukkan opsi : p\n",
            "⌛ Memproses tiket: A24-Tiket02\n",
            "\n",
            "Masukkan opsi : p\n",
            "⌛ Memproses tiket: A24-Tiket01\n",
            "\n",
            "Masukkan opsi : p\n",
            "🚫 Tidak ada tiket yang harus diproses.\n",
            "\n",
            "Masukkan opsi : x\n",
            "👋 Keluar dari program. Terima kasih!\n",
            "\n"
          ]
        }
      ]
    }
  ]
}