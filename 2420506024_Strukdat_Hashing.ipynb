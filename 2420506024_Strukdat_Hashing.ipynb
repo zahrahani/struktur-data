{
  "nbformat": 4,
  "nbformat_minor": 0,
  "metadata": {
    "colab": {
      "provenance": [],
      "authorship_tag": "ABX9TyMW8H50TMrheJ3zock0n1IO",
      "include_colab_link": true
    },
    "kernelspec": {
      "name": "python3",
      "display_name": "Python 3"
    },
    "language_info": {
      "name": "python"
    }
  },
  "cells": [
    {
      "cell_type": "markdown",
      "metadata": {
        "id": "view-in-github",
        "colab_type": "text"
      },
      "source": [
        "<a href=\"https://colab.research.google.com/github/zahrahani/struktur-data/blob/main/2420506024_Strukdat_Hashing.ipynb\" target=\"_parent\"><img src=\"https://colab.research.google.com/assets/colab-badge.svg\" alt=\"Open In Colab\"/></a>"
      ]
    },
    {
      "cell_type": "code",
      "execution_count": null,
      "metadata": {
        "colab": {
          "base_uri": "https://localhost:8080/"
        },
        "id": "WxkCRFiaQg__",
        "outputId": "e08ce00e-2a06-454a-e584-2eba37f6fd43"
      },
      "outputs": [
        {
          "output_type": "stream",
          "name": "stdout",
          "text": [
            "Nilai untuk 'apel'   : 100\n",
            "Nilai untuk 'pisang' : 200\n"
          ]
        }
      ],
      "source": [
        "# Implementasi Hash Table Sederhana\n",
        "\n",
        "class SimpleHashTable:\n",
        "    def __init__(self, size):\n",
        "        self.size = size            # ukuran tabel\n",
        "        self.table = [None] * size  # inisialisasi list kosong\n",
        "\n",
        "    def hash_function(self, key):\n",
        "        return hash(key) % self.size    # fungsi hash() bawaan Python → menghasilkan indeks berdasarkan key\n",
        "\n",
        "    def insert(self, key, value):\n",
        "        index = self.hash_function(key)   # mengubah key menjadi indeks dengan hash_function()\n",
        "        self.table[index] = value\n",
        "\n",
        "    def search(self, key):\n",
        "        index = self.hash_function(key)   # mengubah key menjadi indeks dengan hash_function()\n",
        "        return self.table[index]\n",
        "\n",
        "# Contoh penggunaan\n",
        "ht = SimpleHashTable(10)    # membuat objek ht dengan panjang 10\n",
        "ht.insert(\"apel\", 100)\n",
        "ht.insert(\"pisang\", 200)\n",
        "\n",
        "print(\"Nilai untuk 'apel'   :\", ht.search(\"apel\"))\n",
        "print(\"Nilai untuk 'pisang' :\", ht.search(\"pisang\"))"
      ]
    },
    {
      "cell_type": "code",
      "source": [
        "# Penanganan Collision dengan Linear Probing\n",
        "\n",
        "class LinearProbingHashTable:\n",
        "    def __init__(self, size):\n",
        "        self.size = size\n",
        "        self.table = [None] * size\n",
        "\n",
        "    def hash_function(self, key):\n",
        "        return hash(key) % self.size\n",
        "\n",
        "    def insert(self, key, value):\n",
        "        index = self.hash_function(key)\n",
        "        original_index = index    # indeks awal\n",
        "\n",
        "        # mencari slot kosong dengan Linear Probing\n",
        "        while self.table[index] is not None:\n",
        "            if self.table[index][0] == key:   # jika key yang sama ditemukan, keluar dari loop (update value)\n",
        "                break\n",
        "            index = (index + 1) % self.size   # pindah ke indeks berikutnya (dengan looping melingkar searah jarum jam)\n",
        "            if index == original_index:       # jika sudah kembali ke indeks awal, berarti Hash Table penuh\n",
        "                raise Exception(\"Hash table penuh\")\n",
        "\n",
        "        self.table[index] = (key, value)  # simpan pasangan key-value di slot kosong yang tersedia\n",
        "\n",
        "    def search(self, key):\n",
        "        index = self.hash_function(key)\n",
        "        original_index = index\n",
        "\n",
        "        # mencari key yang sesuai menggunakan Linear Probing\n",
        "        while self.table[index] is not None:\n",
        "            if self.table[index][0] == key:   # jika key ditemukan, kembalikan valuenya\n",
        "                return self.table[index][1]\n",
        "            index = (index + 1) % self.size   # lanjut ke indeks berikutnya (dengan looping melingkar searah jarum jam)\n",
        "            if index == original_index:       # jika sudah kembali ke indeks awal, hentikan pencarian\n",
        "                break\n",
        "        return None   # jika key tidak di temukan, kembalikan None\n",
        "\n",
        "# Contoh penggunaan\n",
        "ht = LinearProbingHashTable(5)\n",
        "ht.insert(\"apel\", 100)\n",
        "ht.insert(\"pisang\", 200)\n",
        "ht.insert(\"melon\", 300)\n",
        "\n",
        "print(\"Nilai untuk 'apel'   :\", ht.search(\"apel\"))\n",
        "print(\"Nilai untuk 'melon'  :\", ht.search(\"melon\"))"
      ],
      "metadata": {
        "colab": {
          "base_uri": "https://localhost:8080/"
        },
        "id": "uXJ9AoieSKJr",
        "outputId": "a7d69663-3ef5-4d9f-fd63-0b76f8a6d485"
      },
      "execution_count": null,
      "outputs": [
        {
          "output_type": "stream",
          "name": "stdout",
          "text": [
            "Nilai untuk 'apel'   : 100\n",
            "Nilai untuk 'melon'  : 300\n"
          ]
        }
      ]
    },
    {
      "cell_type": "code",
      "source": [
        "# Penanganan Collision dengan Chaining\n",
        "\n",
        "class ChainingHashTable:\n",
        "    def __init__(self, size):\n",
        "        self.size = size\n",
        "        self.table = [[] for _ in range(size)]  # list untuk menampung banyak pasangan key-value\n",
        "\n",
        "    def hash_function(self, key):\n",
        "        return hash(key) % self.size\n",
        "\n",
        "    def insert(self, key, value):\n",
        "        index = self.hash_function(key)\n",
        "\n",
        "        # cek apakah key sudah ada di dalam list slot tersebut atau belum\n",
        "        for i, (k, v) in enumerate(self.table[index]):\n",
        "            if k == key:    # jika key sudah ada, perbarui value-nya\n",
        "                self.table[index][i] = (key, value)\n",
        "                return\n",
        "\n",
        "        self.table[index].append((key, value))    # jika key belum ada, tambahkan pasangan key-value ke list\n",
        "\n",
        "    def search(self, key):\n",
        "        index = self.hash_function(key)\n",
        "\n",
        "        # telusuri semua pasangan key-value di list pada slot tersebut\n",
        "        for k, v in self.table[index]:\n",
        "            if k == key:    # jika key ditemukan, kembalikan value-nya\n",
        "                return v\n",
        "        return None         # jika key tidak ditemukan, kembalikan None\n",
        "\n",
        "# Contoh penggunaan\n",
        "ht = ChainingHashTable(5)\n",
        "ht.insert(\"apel\", 100)\n",
        "ht.insert(\"pisang\", 200)\n",
        "ht.insert(\"melon\", 300)\n",
        "\n",
        "print(\"Nilai untuk 'apel'   :\", ht.search(\"apel\"))\n",
        "print(\"Nilai untuk 'melon'  :\", ht.search(\"melon\"))"
      ],
      "metadata": {
        "colab": {
          "base_uri": "https://localhost:8080/"
        },
        "id": "3nahd1YzUwDj",
        "outputId": "fa5c8445-db9c-4b06-b377-37261d9cd4b0"
      },
      "execution_count": null,
      "outputs": [
        {
          "output_type": "stream",
          "name": "stdout",
          "text": [
            "Nilai untuk 'apel'   : 100\n",
            "Nilai untuk 'melon'  : 300\n"
          ]
        }
      ]
    }
  ]
}