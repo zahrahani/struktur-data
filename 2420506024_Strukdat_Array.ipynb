{
  "nbformat": 4,
  "nbformat_minor": 0,
  "metadata": {
    "colab": {
      "provenance": [],
      "collapsed_sections": [
        "IaO7wQcxP9Wy",
        "xtXMomiIwlDW"
      ],
      "authorship_tag": "ABX9TyMP5WTuKeUN3z3xOST28glt",
      "include_colab_link": true
    },
    "kernelspec": {
      "name": "python3",
      "display_name": "Python 3"
    },
    "language_info": {
      "name": "python"
    }
  },
  "cells": [
    {
      "cell_type": "markdown",
      "metadata": {
        "id": "view-in-github",
        "colab_type": "text"
      },
      "source": [
        "<a href=\"https://colab.research.google.com/github/zahrahani/struktur-data/blob/main/2420506024_Strukdat_Array.ipynb\" target=\"_parent\"><img src=\"https://colab.research.google.com/assets/colab-badge.svg\" alt=\"Open In Colab\"/></a>"
      ]
    },
    {
      "cell_type": "markdown",
      "source": [
        "# Week 1 - Array"
      ],
      "metadata": {
        "id": "WQ7JUY9_s5l-"
      }
    },
    {
      "cell_type": "markdown",
      "source": [
        "## 1. Array 1 Dimensi"
      ],
      "metadata": {
        "id": "IaO7wQcxP9Wy"
      }
    },
    {
      "cell_type": "code",
      "execution_count": null,
      "metadata": {
        "colab": {
          "base_uri": "https://localhost:8080/"
        },
        "id": "FPlFX9VfqwKD",
        "outputId": "2428df4e-0bff-4d87-dd86-7ae086b90c53"
      },
      "outputs": [
        {
          "output_type": "stream",
          "name": "stdout",
          "text": [
            "Isi array angka: [10, 20, 30, 40, 50]\n"
          ]
        }
      ],
      "source": [
        "# 1.1 Deklarasi dan Inisialisasi Array\n",
        "\n",
        "# Deklarasi array kosong\n",
        "data = [ ]\n",
        "\n",
        "# Inisialisasi array dengan elemen\n",
        "angka = [10, 20, 30, 40, 50]\n",
        "\n",
        "# Menampilkan isi array\n",
        "print(\"Isi array angka:\", angka)"
      ]
    },
    {
      "cell_type": "code",
      "source": [
        "# Latihan 1\n",
        "# Membuat array NPM\n",
        "NPM = [2420506024, 2420506025, 2420506026, 2420506027, 2420506028]\n",
        "\n",
        "print(\"Isi array NPM:\", NPM)"
      ],
      "metadata": {
        "colab": {
          "base_uri": "https://localhost:8080/"
        },
        "id": "N5p5H-Qss0-n",
        "outputId": "caec3af4-a620-4c77-e4a2-92d3bf2bbcca"
      },
      "execution_count": null,
      "outputs": [
        {
          "output_type": "stream",
          "name": "stdout",
          "text": [
            "Isi array NPM: [2420506024, 2420506025, 2420506026, 2420506027, 2420506028]\n"
          ]
        }
      ]
    },
    {
      "cell_type": "code",
      "source": [
        "# 1.2 Operasi Dasar pada Array\n",
        "# a. Mengakses Elemen Array\n",
        "\n",
        "print(\"Elemen pertama   :\", angka[0])  # Elemen pertama\n",
        "print(\"Elemen terakhir  :\", angka[-1]) # Elemen terakhir"
      ],
      "metadata": {
        "colab": {
          "base_uri": "https://localhost:8080/"
        },
        "id": "Q1Gw_oPGt73O",
        "outputId": "baff5d04-2fce-4808-ca2e-b9eb2b7f534c"
      },
      "execution_count": null,
      "outputs": [
        {
          "output_type": "stream",
          "name": "stdout",
          "text": [
            "Elemen pertama   : 10\n",
            "Elemen terakhir  : 50\n"
          ]
        }
      ]
    },
    {
      "cell_type": "code",
      "source": [
        "# 1.2 Operasi Dasar pada Array\n",
        "# b. Menambah Elemen Array\n",
        "\n",
        "# Menambah elemen menggunakan append()\n",
        "angka.append(60)\n",
        "print(\"Array setelah penambahan elemen:\", angka)\n",
        "\n",
        "# Menambah elemen menggunakan insert()\n",
        "angka.insert(2, 25)   # Menyisipkan 25 di angka indeks ke-2\n",
        "print(\"Array setelah penambahan elemen dengan insert:\", angka)"
      ],
      "metadata": {
        "colab": {
          "base_uri": "https://localhost:8080/"
        },
        "id": "TJ3dt6Llua4P",
        "outputId": "6e18d6ee-55e0-4507-8c04-e73328fd9d17"
      },
      "execution_count": null,
      "outputs": [
        {
          "output_type": "stream",
          "name": "stdout",
          "text": [
            "Array setelah penambahan elemen: [10, 20, 30, 40, 50, 60]\n",
            "Array setelah penambahan elemen dengan insert: [10, 20, 25, 30, 40, 50, 60]\n"
          ]
        }
      ]
    },
    {
      "cell_type": "code",
      "source": [
        "# 1.2 Operasi Dasar pada Array\n",
        "# c. Menghapus Elemen Array\n",
        "\n",
        "# Menghapus elemen menggunakan remove()\n",
        "angka.remove(25)    # Menghapus nilai 25\n",
        "print(\"Array setelah menghapus elemen 25:\", angka)\n",
        "\n",
        "# Menghapus elemen menggunakan pop()\n",
        "angka.pop(2)        # Menghapus elemen pada indeks ke-2\n",
        "print(\"Array setelah menghapus elemen pada indeks ke-2:\", angka)"
      ],
      "metadata": {
        "colab": {
          "base_uri": "https://localhost:8080/"
        },
        "id": "ltZlAOfRvH4n",
        "outputId": "5fb23b6e-b6f4-4f9c-f1b5-f965d3921215"
      },
      "execution_count": null,
      "outputs": [
        {
          "output_type": "stream",
          "name": "stdout",
          "text": [
            "Array setelah menghapus elemen 25: [10, 20, 30, 40, 50, 60]\n",
            "Array setelah menghapus elemen pada indeks ke-2: [10, 20, 40, 50, 60]\n"
          ]
        }
      ]
    },
    {
      "cell_type": "code",
      "source": [
        "# 1.2 Operasi Dasar pada Array\n",
        "# d. Mengubah Elemen Array\n",
        "\n",
        "# Mengubah elemen pada indeks ke-0\n",
        "angka[0] = 100\n",
        "print(\"Array setelah mengubah elemen pertama:\", angka)"
      ],
      "metadata": {
        "colab": {
          "base_uri": "https://localhost:8080/"
        },
        "id": "MGsNuNCYv0aZ",
        "outputId": "4c68f785-c952-45e4-d280-ab92ca63b0cf"
      },
      "execution_count": null,
      "outputs": [
        {
          "output_type": "stream",
          "name": "stdout",
          "text": [
            "Array setelah mengubah elemen pertama: [100, 20, 40, 50, 60]\n"
          ]
        }
      ]
    },
    {
      "cell_type": "code",
      "source": [
        "# Latihan 2\n",
        "# Menambahkan nilai NPM saya, 2420506024 (2 digit terakhir)\n",
        "# ke dalam array angka dan hapus elemen pertama\n",
        "\n",
        "angka.append(24)\n",
        "print(\"Array setelah ditambah:\", angka)\n",
        "\n",
        "angka.pop(0)\n",
        "print(\"Array setelah elemen pertama dihapus:\", angka)"
      ],
      "metadata": {
        "colab": {
          "base_uri": "https://localhost:8080/"
        },
        "id": "hQ-k0VR0xxSW",
        "outputId": "2bd32652-4af1-46eb-d046-35236817429c"
      },
      "execution_count": null,
      "outputs": [
        {
          "output_type": "stream",
          "name": "stdout",
          "text": [
            "Array setelah ditambah: [100, 20, 40, 50, 60, 24]\n",
            "Array setelah elemen pertama dihapus: [20, 40, 50, 60, 24]\n"
          ]
        }
      ]
    },
    {
      "cell_type": "markdown",
      "source": [
        "## 2. Iterasi dan Operasi pada Array"
      ],
      "metadata": {
        "id": "xtXMomiIwlDW"
      }
    },
    {
      "cell_type": "code",
      "source": [
        "# 2.1 Iterasi dengan Perulangan\n",
        "# Iterasi dengan perulangan\n",
        "\n",
        "angka = [10, 20, 30, 40]\n",
        "\n",
        "for nilai in angka:\n",
        "    print(\"Nilai:\", nilai)"
      ],
      "metadata": {
        "colab": {
          "base_uri": "https://localhost:8080/"
        },
        "id": "vCslKPqyx7BF",
        "outputId": "4c2f1e6a-2c52-45d8-9fae-e1630a12466d"
      },
      "execution_count": null,
      "outputs": [
        {
          "output_type": "stream",
          "name": "stdout",
          "text": [
            "Nilai: 10\n",
            "Nilai: 20\n",
            "Nilai: 30\n",
            "Nilai: 40\n"
          ]
        }
      ]
    },
    {
      "cell_type": "code",
      "source": [
        "# Latihan 3\n",
        "# Array Fakultas yang berisi seluruh fakultas di UNTIDAR\n",
        "\n",
        "fakultas = [\"Teknik\", \"Ekonomi\", \"Keguruan & Ilmu Pendidikan\", \"Pertanian\", \"Ilmu Sosial & Politik\"]\n",
        "\n",
        "print(\"Fakultas di UNTIDAR:\")\n",
        "nomor = 1\n",
        "for f in fakultas:\n",
        "    print(f\"{nomor}. Fakultas {f}\")\n",
        "    nomor = nomor + 1"
      ],
      "metadata": {
        "colab": {
          "base_uri": "https://localhost:8080/"
        },
        "id": "nYxi3coyyN8G",
        "outputId": "45b42a54-dc5c-4391-db6c-9be481ad9083"
      },
      "execution_count": null,
      "outputs": [
        {
          "output_type": "stream",
          "name": "stdout",
          "text": [
            "Fakultas di UNTIDAR:\n",
            "1. Fakultas Teknik\n",
            "2. Fakultas Ekonomi\n",
            "3. Fakultas Keguruan & Ilmu Pendidikan\n",
            "4. Fakultas Pertanian\n",
            "5. Fakultas Ilmu Sosial & Politik\n"
          ]
        }
      ]
    },
    {
      "cell_type": "code",
      "source": [
        "# 2.2\n",
        "# Operasi Matematika Sederhana\n",
        "\n",
        "angka = [10, 20, 30, 40]\n",
        "\n",
        "print(\"Jumlah total   :\", sum(angka))\n",
        "print(\"Nilai maksimum :\", max(angka))\n",
        "print(\"Nilai minimum  :\", min(angka))"
      ],
      "metadata": {
        "colab": {
          "base_uri": "https://localhost:8080/"
        },
        "id": "swrvXtTizrre",
        "outputId": "34e2669f-0e76-4754-b5e4-08dd10b08967"
      },
      "execution_count": null,
      "outputs": [
        {
          "output_type": "stream",
          "name": "stdout",
          "text": [
            "Jumlah total   : 100\n",
            "Nilai maksimum : 40\n",
            "Nilai minimum  : 10\n"
          ]
        }
      ]
    },
    {
      "cell_type": "code",
      "source": [
        "# Latihan 4\n",
        "# Array harga barang dan hitung jumlah elemen dari array (jumlah harga)\n",
        "\n",
        "harga_barang = [10000, 25000, 50000, 100000]\n",
        "\n",
        "print(\"Total harga barang:\", sum(harga_barang))"
      ],
      "metadata": {
        "colab": {
          "base_uri": "https://localhost:8080/"
        },
        "id": "gmVqLhrI1Ehu",
        "outputId": "4ff3a875-6414-46af-c92f-94d2c4e1f923"
      },
      "execution_count": null,
      "outputs": [
        {
          "output_type": "stream",
          "name": "stdout",
          "text": [
            "Total harga barang: 185000\n"
          ]
        }
      ]
    },
    {
      "cell_type": "markdown",
      "source": [
        "## 3. Array 2 Dimensi"
      ],
      "metadata": {
        "id": "ESwzYT--3hpO"
      }
    },
    {
      "cell_type": "code",
      "source": [
        "# 3.1 Deklarasi dan Inisialisasi Array 2D\n",
        "\n",
        "# Deklarasi array 2D\n",
        "matriks = [\n",
        "    [1, 2, 3],\n",
        "    [4, 5, 6],\n",
        "    [7, 8, 9]\n",
        "]\n",
        "\n",
        "# Menampilkan isi array 2D\n",
        "print(\"Isi array 2D:\")\n",
        "for baris in matriks:\n",
        "    print(baris)"
      ],
      "metadata": {
        "colab": {
          "base_uri": "https://localhost:8080/"
        },
        "id": "JE49OAmR3cp-",
        "outputId": "2091a0d9-6021-4be8-fbfd-6e40784a9c60"
      },
      "execution_count": null,
      "outputs": [
        {
          "output_type": "stream",
          "name": "stdout",
          "text": [
            "Isi array 2D:\n",
            "[1, 2, 3]\n",
            "[4, 5, 6]\n",
            "[7, 8, 9]\n"
          ]
        }
      ]
    },
    {
      "cell_type": "code",
      "source": [
        "# Latihan 5\n",
        "# Array 2D yang berisi 3 baris 4 kolom\n",
        "\n",
        "matriks_baru = [\n",
        "    [1, 9, 9, 1],\n",
        "    [8, 0, 0, 8],\n",
        "    [1, 6, 6, 1]\n",
        "]\n",
        "\n",
        "for baris in matriks_baru:\n",
        "    print(baris)"
      ],
      "metadata": {
        "colab": {
          "base_uri": "https://localhost:8080/"
        },
        "id": "XRXNFvoq4GR-",
        "outputId": "fbd1b738-85fa-49dd-b2d4-bff9ff69c6bd"
      },
      "execution_count": null,
      "outputs": [
        {
          "output_type": "stream",
          "name": "stdout",
          "text": [
            "[1, 9, 9, 1]\n",
            "[8, 0, 0, 8]\n",
            "[1, 6, 6, 1]\n"
          ]
        }
      ]
    },
    {
      "cell_type": "code",
      "source": [
        "# 3.2 Operasi Dasar pada Array 2D\n",
        "# a. Mengakses Elemen Array @D\n",
        "\n",
        "# Mengakses elemen pada baris ke-1 kolom ke-2 (indeks [0][1])\n",
        "print(\"Elemen pada baris 1, kolom 2:\", matriks[0][1])\n",
        "\n",
        "# Mengakses elemen terakhir (baris ke-3, kolom ke-3)\n",
        "print(\"Elemen terakhir:\", matriks[-1][-1])"
      ],
      "metadata": {
        "colab": {
          "base_uri": "https://localhost:8080/"
        },
        "id": "v8doN1H-434J",
        "outputId": "0a246f6f-9fee-4376-8f8c-79387e124970"
      },
      "execution_count": null,
      "outputs": [
        {
          "output_type": "stream",
          "name": "stdout",
          "text": [
            "Elemen pada baris 1, kolom 2: 2\n",
            "Elemen terakhir: 9\n"
          ]
        }
      ]
    },
    {
      "cell_type": "code",
      "source": [
        "# Latihan 6\n",
        "# Mengakses elemen baris 2 kolom 4 dari array 2D yang telah dibuat\n",
        "matriks_baru = [\n",
        "    [1, 9, 9, 1],\n",
        "    [8, 0, 0, 8],\n",
        "    [1, 6, 6, 1]\n",
        "]\n",
        "\n",
        "for baris in matriks_baru:\n",
        "    print(baris)\n",
        "\n",
        "print()\n",
        "print(\"Elemen baris 2 kolom 4:\", matriks_baru[1][3])"
      ],
      "metadata": {
        "colab": {
          "base_uri": "https://localhost:8080/"
        },
        "id": "5mP8b20O5rsd",
        "outputId": "afe8c6fb-f079-449f-a5f9-0ef7f87db77e"
      },
      "execution_count": null,
      "outputs": [
        {
          "output_type": "stream",
          "name": "stdout",
          "text": [
            "[1, 9, 9, 1]\n",
            "[8, 0, 0, 8]\n",
            "[1, 6, 6, 1]\n",
            "\n",
            "Elemen baris 2 kolom 4: 8\n"
          ]
        }
      ]
    },
    {
      "cell_type": "code",
      "source": [
        "# 3.2 Operasi Dasar pada Array 2D\n",
        "# b. Menambah Elemen ke Array 2D\n",
        "\n",
        "# Menambahkan baris baru\n",
        "matriks.append([10, 11, 12])\n",
        "print(\"Array setelah menambahkan baris baru:\", matriks)\n",
        "\n",
        "# Menambahkan elemen pada baris ke-2\n",
        "matriks[1].append(99)\n",
        "print(\"Array setelah menambahkan elemen di baris ke -2\", matriks)"
      ],
      "metadata": {
        "colab": {
          "base_uri": "https://localhost:8080/"
        },
        "id": "bzWl7NGF63cx",
        "outputId": "6658f42e-92d4-439e-f1a4-4549dcb8605b"
      },
      "execution_count": null,
      "outputs": [
        {
          "output_type": "stream",
          "name": "stdout",
          "text": [
            "Array setelah menambahkan baris baru: [[1, 2, 3], [4, 5, 6], [7, 8, 9], [10, 11, 12]]\n",
            "Array setelah menambahkan elemen di baris ke -2 [[1, 2, 3], [4, 5, 6, 99], [7, 8, 9], [10, 11, 12]]\n"
          ]
        }
      ]
    },
    {
      "cell_type": "code",
      "source": [
        "# Latihan 7\n",
        "# Menambahkan baris baru yang berisi tanggal lahir, bulan lahir,\n",
        "# 2 digit awal tahun lahir, dan 2 digit terakhir tahun lahir.\n",
        "# Serta menampilkannya dalam bentuk baris dan kolom\n",
        "\n",
        "matriks_baru.append([12, 4, 20, 6])\n",
        "\n",
        "print(\"Matriks setelah ditambah 1 baris:\")\n",
        "for baris in matriks_baru:\n",
        "    print(baris)"
      ],
      "metadata": {
        "colab": {
          "base_uri": "https://localhost:8080/"
        },
        "id": "K6MZUIz98_jL",
        "outputId": "2b67f44a-b447-4bec-f337-082b6b23462b"
      },
      "execution_count": null,
      "outputs": [
        {
          "output_type": "stream",
          "name": "stdout",
          "text": [
            "Matriks setelah ditambah 1 baris:\n",
            "[1, 9, 9, 1]\n",
            "[8, 0, 0, 8]\n",
            "[1, 6, 6, 1]\n",
            "[12, 4, 20, 6]\n"
          ]
        }
      ]
    },
    {
      "cell_type": "code",
      "source": [
        "# 3.2 Operasi Dasar pada Array 2D\n",
        "# c. Menghapus Elemen dari Array 2D\n",
        "\n",
        "# Menghapus elemen tertentu di baris ke-1\n",
        "matriks[0].remove(2)\n",
        "print(\"Array setelah menghapus elemen ke-2 dari baris pertama\", matriks)\n",
        "\n",
        "# Menghapus elemen pada indeks tertentu dari baris ke-2\n",
        "matriks[1].pop(1)\n",
        "print(\"Array setelah menghapus elemen indeks ke-1 dari baris ke-2\", matriks)"
      ],
      "metadata": {
        "colab": {
          "base_uri": "https://localhost:8080/"
        },
        "id": "jUjAKpLk95rQ",
        "outputId": "3ce35197-30ea-46ca-c704-466f503fc073"
      },
      "execution_count": null,
      "outputs": [
        {
          "output_type": "stream",
          "name": "stdout",
          "text": [
            "Array setelah menghapus elemen ke-2 dari baris pertama [[1, 3], [4, 5, 6, 99], [7, 8, 9], [10, 11, 12]]\n",
            "Array setelah menghapus elemen indeks ke-1 dari baris ke-2 [[1, 3], [4, 6, 99], [7, 8, 9], [10, 11, 12]]\n"
          ]
        }
      ]
    },
    {
      "cell_type": "code",
      "source": [
        "# Latihan 8\n",
        "# Modifikasi array dengan menghapus elemen ke-3 dari baris terakhir\n",
        "\n",
        "matriks_baru[3].pop(2)\n",
        "print(\"Array setelah elemen ke-3 baris terakhir dihapus:\")\n",
        "for baris in matriks_baru:\n",
        "    print(baris)"
      ],
      "metadata": {
        "colab": {
          "base_uri": "https://localhost:8080/"
        },
        "id": "YbesemvZ-xSO",
        "outputId": "ded647dd-f125-4839-bdc1-138c5b902e1f"
      },
      "execution_count": null,
      "outputs": [
        {
          "output_type": "stream",
          "name": "stdout",
          "text": [
            "Array setelah elemen ke-3 baris terakhir dihapus:\n",
            "[1, 9, 9, 1]\n",
            "[8, 0, 0, 8]\n",
            "[1, 6, 6, 1]\n",
            "[12, 4, 6]\n"
          ]
        }
      ]
    },
    {
      "cell_type": "code",
      "source": [
        "# 3.2 Operasi Dasar pada Array 2D\n",
        "# d. Mengubah Elemen dalam Array 2D\n",
        "\n",
        "# Mengubah elemen pada baris ke-3, kolom ke-2\n",
        "matriks[2][1] = 88\n",
        "print(\"Array setelah mengubah elemen baris ke-3, kolom ke-2:\", matriks)"
      ],
      "metadata": {
        "id": "nmXrHyKhARSc",
        "colab": {
          "base_uri": "https://localhost:8080/"
        },
        "outputId": "eaad8dcc-f928-4cd7-db5f-d8298ed619a6"
      },
      "execution_count": null,
      "outputs": [
        {
          "output_type": "stream",
          "name": "stdout",
          "text": [
            "Array setelah mengubah elemen baris ke-3, kolom ke-2: [[1, 3], [4, 6, 99], [7, 88, 9], [10, 11, 12]]\n"
          ]
        }
      ]
    },
    {
      "cell_type": "code",
      "source": [
        "# Latihan 9\n",
        "# Mengubah elemen baris terakhir kolom terakhir dengan tanggal hari ini\n",
        "\n",
        "matriks_baru[-1][-1] = 14\n",
        "\n",
        "print(\"Array hari ini:\")\n",
        "for m in matriks_baru:\n",
        "    print(m)"
      ],
      "metadata": {
        "id": "HqGIwwUZBWAy",
        "colab": {
          "base_uri": "https://localhost:8080/"
        },
        "outputId": "8edaf785-1db8-4e3e-ebcd-ca398a85911e"
      },
      "execution_count": null,
      "outputs": [
        {
          "output_type": "stream",
          "name": "stdout",
          "text": [
            "Array hari ini:\n",
            "[1, 9, 9, 1]\n",
            "[8, 0, 0, 8]\n",
            "[1, 6, 6, 1]\n",
            "[12, 4, 14]\n"
          ]
        }
      ]
    },
    {
      "cell_type": "markdown",
      "source": [
        "## 4. Studi Kasus Sederhana"
      ],
      "metadata": {
        "id": "TB4y6_F5ByQA"
      }
    },
    {
      "cell_type": "code",
      "source": [
        "# 4.1 Menyimpan Daftar Belanja\n",
        "# Menyimpan daftar belanja\n",
        "\n",
        "belanja = [\"Beras\", \"Gula\", \"Minyak\"]\n",
        "belanja.append(\"Teh\")\n",
        "belanja.remove(\"Gula\")\n",
        "print(\"Daftar belanja terbaru:\", belanja)"
      ],
      "metadata": {
        "colab": {
          "base_uri": "https://localhost:8080/"
        },
        "id": "CBqfpOGDBu7o",
        "outputId": "13b35f73-317d-4120-8cb0-2830bbd1603e"
      },
      "execution_count": null,
      "outputs": [
        {
          "output_type": "stream",
          "name": "stdout",
          "text": [
            "Daftar belanja terbaru: ['Beras', 'Minyak', 'Teh']\n"
          ]
        }
      ]
    },
    {
      "cell_type": "code",
      "source": [
        "# Latihan 10\n",
        "# Membuat dan modifikasi daftar belanja\n",
        "\n",
        "mainan = [\"Lego\", \"Bola\", \"Boneka\"]\n",
        "print(\"Daftar belanja mainan:\", mainan)\n",
        "\n",
        "mainan[0] = \"Play Station\"\n",
        "print(\"Daftar belanja mainan setelah diubah:\", mainan)\n",
        "\n",
        "mainan.append(\"Hot Wheels\")\n",
        "print(\"Daftar belanja mainan setelah ditambah:\", mainan)\n",
        "\n",
        "mainan.remove(\"Boneka\")\n",
        "print(\"Daftar belanja mainan setelah dikurangi:\", mainan)"
      ],
      "metadata": {
        "id": "UQjh_01YGEYw",
        "colab": {
          "base_uri": "https://localhost:8080/"
        },
        "outputId": "3733797f-3343-4694-a422-e04631597f05"
      },
      "execution_count": null,
      "outputs": [
        {
          "output_type": "stream",
          "name": "stdout",
          "text": [
            "Daftar belanja mainan: ['Lego', 'Bola', 'Boneka']\n",
            "Daftar belanja mainan setelah diubah: ['Play Station', 'Bola', 'Boneka']\n",
            "Daftar belanja mainan setelah ditambah: ['Play Station', 'Bola', 'Boneka', 'Hot Wheels']\n",
            "Daftar belanja mainan setelah dikurangi: ['Play Station', 'Bola', 'Hot Wheels']\n"
          ]
        }
      ]
    },
    {
      "cell_type": "code",
      "source": [
        "# 4.2 Implementasi pada Permainan Sederhana\n",
        "# Latihan 11\n",
        "\n",
        "# Treasure Hunt\n",
        "\n",
        "# Ukuran peta\n",
        "size = 10\n",
        "\n",
        "# Membuat peta dengan harta karun tersembunyi\n",
        "treasure_map = [\"_\" for _ in range(size)]\n",
        "\n",
        "# Tentukan lokasi harta karun secara manual\n",
        "print(f\"Selamat datang di Treasure Hunt! Peta memiliki {size} lokasi (0 hingga {size-1}).\")\n",
        "treasure_index = int(input(f\"Masukkan lokasi harta karun (0-{size-1}): \"))\n",
        "while treasure_index < 0 or treasure_index >= size:\n",
        "    print(\"Lokasi tidak valid. Masukkan angka dalam rentang yang benar.\")\n",
        "    treasure_index = int(input(f\"Masukkan lokasi harta karun (0-{size-1}): \"))\n",
        "\n",
        "treasure_map[treasure_index] = \"X\"    # Menyembunyikan harta karun di lokasi yang dipilih\n",
        "\n",
        "# Fungsi untuk memulai permainan\n",
        "def play_treasure_hunt():\n",
        "    print(\"\\n Harta karun telah disembunyikan! Sekarang giliran pemain menebak.\")\n",
        "    print(\"Cobalah untuk menemukan harta karun dengan menebak indeks yang benar.\")\n",
        "\n",
        "    # Loop permainan\n",
        "    while True:\n",
        "        # Menampilkan peta tersembunyi kepada pemain\n",
        "        print(\"\\nPeta saat ini: \", [\"_\" for _ in range(size)])  # Peta tersembunyi\n",
        "\n",
        "        # Input pemain\n",
        "        try:\n",
        "            guess = int(input(f\"Masukkan indeks tebakanmu (0-{size-1}): \"))\n",
        "        except ValueError:\n",
        "            print(\"Masukkan angka yang valid!\")\n",
        "            continue\n",
        "\n",
        "        # Validasi input\n",
        "        if guess < 0 or guess >= size:\n",
        "            print(\"Indeks tidak valid, pilih antara 0 hingga\", size-1)\n",
        "            continue\n",
        "\n",
        "        # Mengecek apakah tebakan benar atau salah\n",
        "        if treasure_map[guess] == \"X\":\n",
        "            print(\"Selamat! Kamu menemukan harta karun di lokasi:\", guess)\n",
        "            break\n",
        "        else:\n",
        "            print(\"Tidak ada harta di lokasi ini. Coba lagi!\")\n",
        "\n",
        "    print(\"Terima kasih sudah bermain!\")\n",
        "\n",
        "# Jalankan permainan\n",
        "play_treasure_hunt()"
      ],
      "metadata": {
        "id": "euihxXik6xOM"
      },
      "execution_count": null,
      "outputs": []
    }
  ]
}