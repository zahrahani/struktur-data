{
  "nbformat": 4,
  "nbformat_minor": 0,
  "metadata": {
    "colab": {
      "provenance": [],
      "authorship_tag": "ABX9TyMTWLL8giLbO+T9VYtR0UKq",
      "include_colab_link": true
    },
    "kernelspec": {
      "name": "python3",
      "display_name": "Python 3"
    },
    "language_info": {
      "name": "python"
    }
  },
  "cells": [
    {
      "cell_type": "markdown",
      "metadata": {
        "id": "view-in-github",
        "colab_type": "text"
      },
      "source": [
        "<a href=\"https://colab.research.google.com/github/zahrahani/struktur-data/blob/main/2420506024_Strukdat_Searching.ipynb\" target=\"_parent\"><img src=\"https://colab.research.google.com/assets/colab-badge.svg\" alt=\"Open In Colab\"/></a>"
      ]
    },
    {
      "cell_type": "markdown",
      "source": [
        "# Searching"
      ],
      "metadata": {
        "id": "ytLp4QZsph2_"
      }
    },
    {
      "cell_type": "markdown",
      "source": [
        "## Implemantasi Jenis-jenis Algoritma Searching"
      ],
      "metadata": {
        "id": "i7EfKU8QM42O"
      }
    },
    {
      "cell_type": "code",
      "execution_count": null,
      "metadata": {
        "colab": {
          "base_uri": "https://localhost:8080/"
        },
        "id": "7z-Cq4p1mpQg",
        "outputId": "b66ee30d-1bfc-4372-a14a-f1cae7e3adb0"
      },
      "outputs": [
        {
          "output_type": "stream",
          "name": "stdout",
          "text": [
            "Masukkan 3 digit terakhir NPM Anda: 24\n",
            "Elemen ditemukan pada indeks 9\n"
          ]
        }
      ],
      "source": [
        "# Implementasi Linear Search\n",
        "\n",
        "def linear_search(arr, target):\n",
        "    for i in range(len(arr)):\n",
        "        if arr[i] == target:\n",
        "            return i\n",
        "    return -1\n",
        "\n",
        "arr = [12, 30, 6, 4, 56, 89, 34, 67, 90, 24]      # NPM = 24\n",
        "target = int(input(\"Masukkan 3 digit terakhir NPM Anda: \"))\n",
        "\n",
        "result = linear_search(arr, target)\n",
        "\n",
        "if result != -1:\n",
        "    print(f\"Elemen ditemukan pada indeks {result}\")\n",
        "else:\n",
        "    print(\"Elemen tidak ditemukan!\")"
      ]
    },
    {
      "cell_type": "code",
      "source": [
        "# Implementasi Binary Search\n",
        "\n",
        "def binary_search (arr, target):\n",
        "    low = 0\n",
        "    high = len(arr) -1\n",
        "\n",
        "    while low <= high:\n",
        "        mid = (low + high) // 2\n",
        "        if arr[mid] == target:\n",
        "            return mid\n",
        "        elif arr[mid] < target:\n",
        "            low = mid + 1\n",
        "        else:\n",
        "            high = mid - 1\n",
        "    return -1\n",
        "\n",
        "arr = [1112, 1122, 1204, 1998, 1204, 2005, 2006, 2034]    # DDMM saya = 1204\n",
        "target = int(input(\"Masukkan tanggal lahir Anda (DDMM): \"))\n",
        "\n",
        "result = binary_search(arr, target)\n",
        "\n",
        "if result != -1:\n",
        "    print(f\"Elemen ditemukan pada indeks {result}\")\n",
        "else:\n",
        "    print(\"Elemen tidak ditemukan\")"
      ],
      "metadata": {
        "colab": {
          "base_uri": "https://localhost:8080/"
        },
        "id": "9du5ngPtptE4",
        "outputId": "b8276769-055a-4361-cbfd-ccc70cb13bcd"
      },
      "execution_count": 32,
      "outputs": [
        {
          "output_type": "stream",
          "name": "stdout",
          "text": [
            "Masukkan tanggal lahir Anda (DDMM): 1204\n",
            "Elemen ditemukan pada indeks 2\n"
          ]
        }
      ]
    },
    {
      "cell_type": "code",
      "source": [
        "# Implementasi Jump Search\n",
        "\n",
        "import math\n",
        "\n",
        "def jump_search(arr, target):\n",
        "    n = len(arr)\n",
        "    step = int(math.sqrt(n))\n",
        "    prev = 0\n",
        "\n",
        "    while arr[min(step, n) - 1] < target:\n",
        "        prev = step\n",
        "        step += int(math.sqrt(n))\n",
        "        if prev >= n:\n",
        "            return -1\n",
        "\n",
        "    for i in range(prev, min(step, n)):\n",
        "        if arr[i] == target:\n",
        "            return i\n",
        "    return -1\n",
        "\n",
        "arr = ['Anaya', 'Erlyn', 'Fiya', 'Hani', 'Lulu', 'Nabila', 'Senandung', 'Zara']\n",
        "target = input(\"Masukkan nama Anda: \")\n",
        "\n",
        "result = jump_search(arr, target)\n",
        "\n",
        "if result != -1:\n",
        "    print(f\"Elemen ditemukan pada indeks ke {result}\")\n",
        "else:\n",
        "    print(\"Elemen tidak ditemukan\")"
      ],
      "metadata": {
        "colab": {
          "base_uri": "https://localhost:8080/"
        },
        "id": "oHpLo_OusNCI",
        "outputId": "3c357871-ea5e-4645-d97e-06e7c6d6dfcc"
      },
      "execution_count": null,
      "outputs": [
        {
          "output_type": "stream",
          "name": "stdout",
          "text": [
            "Masukkan nama Anda: Hani\n",
            "Elemen ditemukan pada indeks ke 3\n"
          ]
        }
      ]
    },
    {
      "cell_type": "markdown",
      "source": [
        "## Latihan / Tugas"
      ],
      "metadata": {
        "id": "Lh8YhOUypXLw"
      }
    },
    {
      "cell_type": "code",
      "source": [
        "# Perbandingan efisiensi Linear Search, Binary Search, dan Jump Search\n",
        "\n",
        "import random\n",
        "import math\n",
        "from tabulate import tabulate\n",
        "\n",
        "# Fungsi Linear Search\n",
        "def LinearSearch(arr, target):\n",
        "    comparisons = 0\n",
        "\n",
        "    for i in range(len(arr)):\n",
        "        comparisons += 1\n",
        "        if arr[i] == target:\n",
        "            return i, comparisons\n",
        "    return -1, comparisons\n",
        "\n",
        "# Fungsi Binary Search\n",
        "def BinarySearch(arr, target):\n",
        "    low = 0\n",
        "    high = len(arr) - 1\n",
        "    comparisons = 0\n",
        "\n",
        "    while low <= high:\n",
        "        mid = (low + high) // 2\n",
        "        comparisons += 1\n",
        "        if arr[mid] == target:\n",
        "            return mid, comparisons\n",
        "        elif arr[mid] < target:\n",
        "            low = mid + 1\n",
        "        else:\n",
        "            high = mid - 1\n",
        "    return -1, comparisons\n",
        "\n",
        "# Fungsi Jump Search\n",
        "def JumpSearch(arr, target):\n",
        "    n = len(arr)\n",
        "    step = int(math.sqrt(n))\n",
        "    prev = 0\n",
        "    comparisons = 0\n",
        "\n",
        "    while arr[min(step,n) - 1] < target:\n",
        "        comparisons += 1\n",
        "        prev = step\n",
        "        step += int(math.sqrt(n))\n",
        "        if prev >= n:\n",
        "            return -1, comparisons\n",
        "\n",
        "    for i in range(prev, min(step, n)):\n",
        "        comparisons += 1\n",
        "        if arr[i] == target:\n",
        "            return i, comparisons\n",
        "    return -1, comparisons\n",
        "\n",
        "# ========== Program Utama (Main) ========== #\n",
        "# Membuat array dengan elemen 100 angka acak yang terurut\n",
        "arr = sorted(random.sample(range(1, 1001), 100))\n",
        "print(f\"Array: {arr}\\n\")\n",
        "\n",
        "# Mencari elemen tengah dalam array\n",
        "target = arr[len(arr) // 2]\n",
        "print(f\"      🔎 Elemen tengah yang di cari: {target} 🔍\")\n",
        "\n",
        "# Linear Search\n",
        "linearsearch_result = LinearSearch(arr, target)\n",
        "\n",
        "# Binary Search\n",
        "binarysearch_result = BinarySearch(arr, target)\n",
        "\n",
        "# Jump Search\n",
        "jumpsearch_result = JumpSearch(arr, target)\n",
        "\n",
        "# Tabel hasil perbandingan pencarian elemen menggunakan 3 algoritma\n",
        "results = [\n",
        "    [\"Linear Search\", linearsearch_result[1]],\n",
        "    [\"Binary Search\", binarysearch_result[1]],\n",
        "    [\"Jump Search\", jumpsearch_result[1]]\n",
        "]\n",
        "\n",
        "print(tabulate(results, headers = [\"  Algoritma Pencarian\", \"Jumlah Perbandingan\"], tablefmt = \"fancy_grid\", colalign = (\"left\", \"center\")))"
      ],
      "metadata": {
        "id": "Un2dyL0vvEEI",
        "colab": {
          "base_uri": "https://localhost:8080/"
        },
        "outputId": "ad071f0d-05f0-4dfc-c2fc-e04caa63c8fe"
      },
      "execution_count": 30,
      "outputs": [
        {
          "output_type": "stream",
          "name": "stdout",
          "text": [
            "Array: [10, 25, 35, 46, 61, 63, 72, 83, 91, 130, 148, 159, 170, 175, 198, 204, 209, 210, 211, 238, 256, 258, 261, 269, 283, 292, 319, 327, 349, 361, 369, 370, 371, 386, 387, 390, 419, 423, 424, 443, 457, 470, 473, 482, 487, 495, 496, 501, 517, 527, 529, 533, 536, 537, 551, 556, 566, 575, 600, 604, 619, 624, 637, 638, 652, 665, 718, 724, 729, 733, 738, 764, 776, 777, 780, 781, 794, 798, 822, 823, 825, 833, 834, 891, 893, 900, 911, 916, 917, 919, 920, 935, 948, 950, 961, 968, 974, 984, 986, 993]\n",
            "\n",
            "      🔎 Elemen tengah yang di cari: 529 🔍\n",
            "╒═════════════════════════╤═══════════════════════╕\n",
            "│   Algoritma Pencarian   │  Jumlah Perbandingan  │\n",
            "╞═════════════════════════╪═══════════════════════╡\n",
            "│ Linear Search           │          51           │\n",
            "├─────────────────────────┼───────────────────────┤\n",
            "│ Binary Search           │           6           │\n",
            "├─────────────────────────┼───────────────────────┤\n",
            "│ Jump Search             │           6           │\n",
            "╘═════════════════════════╧═══════════════════════╛\n"
          ]
        }
      ]
    }
  ]
}