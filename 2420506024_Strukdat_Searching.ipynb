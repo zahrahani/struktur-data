{
  "nbformat": 4,
  "nbformat_minor": 0,
  "metadata": {
    "colab": {
      "provenance": [],
      "authorship_tag": "ABX9TyNVWVAaIkygSGfATbqXsSNV",
      "include_colab_link": true
    },
    "kernelspec": {
      "name": "python3",
      "display_name": "Python 3"
    },
    "language_info": {
      "name": "python"
    }
  },
  "cells": [
    {
      "cell_type": "markdown",
      "metadata": {
        "id": "view-in-github",
        "colab_type": "text"
      },
      "source": [
        "<a href=\"https://colab.research.google.com/github/zahrahani/struktur-data/blob/main/2420506024_Strukdat_Searching.ipynb\" target=\"_parent\"><img src=\"https://colab.research.google.com/assets/colab-badge.svg\" alt=\"Open In Colab\"/></a>"
      ]
    },
    {
      "cell_type": "markdown",
      "source": [
        "# Searching"
      ],
      "metadata": {
        "id": "ytLp4QZsph2_"
      }
    },
    {
      "cell_type": "markdown",
      "source": [
        "## Implementasi Jenis-jenis Algoritma *Searching*"
      ],
      "metadata": {
        "id": "i7EfKU8QM42O"
      }
    },
    {
      "cell_type": "code",
      "execution_count": 42,
      "metadata": {
        "colab": {
          "base_uri": "https://localhost:8080/"
        },
        "id": "7z-Cq4p1mpQg",
        "outputId": "06c0171a-ac2b-4924-a52d-7f99405fa917"
      },
      "outputs": [
        {
          "output_type": "stream",
          "name": "stdout",
          "text": [
            "Masukkan 3 digit terakhir NPM Anda: 024\n",
            "Elemen ditemukan pada indeks 9\n"
          ]
        }
      ],
      "source": [
        "# Implementasi Linear Search\n",
        "\n",
        "def linear_search(arr, target):\n",
        "    for i in range(len(arr)):\n",
        "        if arr[i] == target:\n",
        "            return i\n",
        "    return -1\n",
        "\n",
        "arr = [12, 30, 6, 4, 56, 89, 34, 67, 90, 24]      # NPM = 24\n",
        "target = int(input(\"Masukkan 3 digit terakhir NPM Anda: \"))\n",
        "\n",
        "result = linear_search(arr, target)\n",
        "\n",
        "if result != -1:\n",
        "    print(f\"Elemen ditemukan pada indeks {result}\")\n",
        "else:\n",
        "    print(\"Elemen tidak ditemukan!\")"
      ]
    },
    {
      "cell_type": "code",
      "source": [
        "# Implementasi Binary Search\n",
        "\n",
        "def binary_search (arr, target):\n",
        "    low = 0\n",
        "    high = len(arr) -1\n",
        "\n",
        "    while low <= high:\n",
        "        mid = (low + high) // 2\n",
        "        if arr[mid] == target:\n",
        "            return mid\n",
        "        elif arr[mid] < target:\n",
        "            low = mid + 1\n",
        "        else:\n",
        "            high = mid - 1\n",
        "    return -1\n",
        "\n",
        "arr = [1112, 1122, 1204, 1998, 1204, 2005, 2006, 2034]    # DDMM saya = 1204\n",
        "target = int(input(\"Masukkan tanggal lahir Anda (DDMM): \"))\n",
        "\n",
        "result = binary_search(arr, target)\n",
        "\n",
        "if result != -1:\n",
        "    print(f\"Elemen ditemukan pada indeks {result}\")\n",
        "else:\n",
        "    print(\"Elemen tidak ditemukan\")"
      ],
      "metadata": {
        "colab": {
          "base_uri": "https://localhost:8080/"
        },
        "id": "9du5ngPtptE4",
        "outputId": "946ff74f-b658-42d0-a7b9-9b6c25eb9a6b"
      },
      "execution_count": 34,
      "outputs": [
        {
          "output_type": "stream",
          "name": "stdout",
          "text": [
            "Masukkan tanggal lahir Anda (DDMM): 1204\n",
            "Elemen ditemukan pada indeks 2\n"
          ]
        }
      ]
    },
    {
      "cell_type": "code",
      "source": [
        "# Implementasi Jump Search\n",
        "\n",
        "import math\n",
        "\n",
        "def jump_search(arr, target):\n",
        "    n = len(arr)\n",
        "    step = int(math.sqrt(n))\n",
        "    prev = 0\n",
        "\n",
        "    while arr[min(step, n) - 1] < target:\n",
        "        prev = step\n",
        "        step += int(math.sqrt(n))\n",
        "        if prev >= n:\n",
        "            return -1\n",
        "\n",
        "    for i in range(prev, min(step, n)):\n",
        "        if arr[i] == target:\n",
        "            return i\n",
        "    return -1\n",
        "\n",
        "arr = ['Anaya', 'Erlyn', 'Fiya', 'Hani', 'Lulu', 'Nabila', 'Senandung', 'Zara']\n",
        "target = input(\"Masukkan nama Anda: \")\n",
        "\n",
        "result = jump_search(arr, target)\n",
        "\n",
        "if result != -1:\n",
        "    print(f\"Elemen ditemukan pada indeks ke {result}\")\n",
        "else:\n",
        "    print(\"Elemen tidak ditemukan\")"
      ],
      "metadata": {
        "colab": {
          "base_uri": "https://localhost:8080/"
        },
        "id": "oHpLo_OusNCI",
        "outputId": "7dda0277-48cb-4536-eb13-f0a9ae4bea85"
      },
      "execution_count": 35,
      "outputs": [
        {
          "output_type": "stream",
          "name": "stdout",
          "text": [
            "Masukkan nama Anda: Hani\n",
            "Elemen ditemukan pada indeks ke 3\n"
          ]
        }
      ]
    },
    {
      "cell_type": "markdown",
      "source": [
        "## Latihan / Tugas"
      ],
      "metadata": {
        "id": "Lh8YhOUypXLw"
      }
    },
    {
      "cell_type": "code",
      "source": [
        "# Perbandingan efisiensi Linear Search, Binary Search, dan Jump Search\n",
        "\n",
        "import random\n",
        "import math\n",
        "from tabulate import tabulate\n",
        "\n",
        "# Fungsi Linear Search\n",
        "def LinearSearch(arr, target):\n",
        "    comparisons = 0\n",
        "\n",
        "    for i in range(len(arr)):\n",
        "        comparisons += 1\n",
        "        if arr[i] == target:\n",
        "            return i, comparisons\n",
        "    return -1, comparisons\n",
        "\n",
        "# Fungsi Binary Search\n",
        "def BinarySearch(arr, target):\n",
        "    low = 0\n",
        "    high = len(arr) - 1\n",
        "    comparisons = 0\n",
        "\n",
        "    while low <= high:\n",
        "        mid = (low + high) // 2\n",
        "        comparisons += 1\n",
        "        if arr[mid] == target:\n",
        "            return mid, comparisons\n",
        "        elif arr[mid] < target:\n",
        "            low = mid + 1\n",
        "        else:\n",
        "            high = mid - 1\n",
        "    return -1, comparisons\n",
        "\n",
        "# Fungsi Jump Search\n",
        "def JumpSearch(arr, target):\n",
        "    n = len(arr)\n",
        "    step = int(math.sqrt(n))\n",
        "    prev = 0\n",
        "    comparisons = 0\n",
        "\n",
        "    while arr[min(step,n) - 1] < target:\n",
        "        comparisons += 1\n",
        "        prev = step\n",
        "        step += int(math.sqrt(n))\n",
        "        if prev >= n:\n",
        "            return -1, comparisons\n",
        "\n",
        "    for i in range(prev, min(step, n)):\n",
        "        comparisons += 1\n",
        "        if arr[i] == target:\n",
        "            return i, comparisons\n",
        "    return -1, comparisons\n",
        "\n",
        "# ========== Program Utama (Main) ========== #\n",
        "# Membuat array dengan elemen 100 angka acak yang terurut\n",
        "arr = sorted(random.sample(range(1, 1001), 100))\n",
        "print(f\"Array: {arr}\\n\")\n",
        "\n",
        "# Mencari elemen tengah dalam array\n",
        "target = arr[len(arr) // 2]\n",
        "print(f\"      🔎 Elemen tengah yang di cari: {target} 🔍\")\n",
        "\n",
        "# Linear Search\n",
        "linearsearch_result = LinearSearch(arr, target)\n",
        "\n",
        "# Binary Search\n",
        "binarysearch_result = BinarySearch(arr, target)\n",
        "\n",
        "# Jump Search\n",
        "jumpsearch_result = JumpSearch(arr, target)\n",
        "\n",
        "# Tabel hasil perbandingan pencarian elemen menggunakan 3 algoritma\n",
        "results = [\n",
        "    [\"Linear Search\", linearsearch_result[1]],\n",
        "    [\"Binary Search\", binarysearch_result[1]],\n",
        "    [\"Jump Search\", jumpsearch_result[1]]\n",
        "]\n",
        "\n",
        "print(tabulate(results, headers = [\"  Algoritma Pencarian\", \"Jumlah Perbandingan\"], tablefmt = \"fancy_grid\", colalign = (\"left\", \"center\")))"
      ],
      "metadata": {
        "id": "Un2dyL0vvEEI",
        "colab": {
          "base_uri": "https://localhost:8080/"
        },
        "outputId": "743db4c4-1df9-4a5b-f16d-3462efd93cb2"
      },
      "execution_count": 40,
      "outputs": [
        {
          "output_type": "stream",
          "name": "stdout",
          "text": [
            "Array: [1, 4, 15, 27, 41, 43, 70, 73, 75, 76, 78, 88, 98, 103, 127, 150, 152, 156, 169, 175, 182, 185, 212, 221, 249, 250, 253, 270, 275, 302, 321, 355, 362, 363, 365, 379, 395, 413, 447, 451, 455, 456, 468, 474, 504, 505, 507, 525, 528, 533, 545, 561, 569, 575, 582, 593, 596, 619, 620, 627, 637, 638, 639, 645, 649, 652, 657, 683, 690, 697, 707, 709, 743, 744, 762, 766, 777, 794, 796, 798, 800, 804, 805, 824, 832, 840, 842, 852, 854, 863, 879, 891, 903, 905, 924, 941, 943, 945, 946, 992]\n",
            "\n",
            "      🔎 Elemen tengah yang di cari: 545 🔍\n",
            "╒═════════════════════════╤═══════════════════════╕\n",
            "│   Algoritma Pencarian   │  Jumlah Perbandingan  │\n",
            "╞═════════════════════════╪═══════════════════════╡\n",
            "│ Linear Search           │          51           │\n",
            "├─────────────────────────┼───────────────────────┤\n",
            "│ Binary Search           │           6           │\n",
            "├─────────────────────────┼───────────────────────┤\n",
            "│ Jump Search             │           6           │\n",
            "╘═════════════════════════╧═══════════════════════╛\n"
          ]
        }
      ]
    }
  ]
}