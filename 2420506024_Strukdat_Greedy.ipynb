{
  "nbformat": 4,
  "nbformat_minor": 0,
  "metadata": {
    "colab": {
      "provenance": [],
      "authorship_tag": "ABX9TyN4Cq7gvUVvfUuyvCYvHZRM",
      "include_colab_link": true
    },
    "kernelspec": {
      "name": "python3",
      "display_name": "Python 3"
    },
    "language_info": {
      "name": "python"
    }
  },
  "cells": [
    {
      "cell_type": "markdown",
      "metadata": {
        "id": "view-in-github",
        "colab_type": "text"
      },
      "source": [
        "<a href=\"https://colab.research.google.com/github/zahrahani/struktur-data/blob/main/2420506024_Strukdat_Greedy.ipynb\" target=\"_parent\"><img src=\"https://colab.research.google.com/assets/colab-badge.svg\" alt=\"Open In Colab\"/></a>"
      ]
    },
    {
      "cell_type": "code",
      "execution_count": 5,
      "metadata": {
        "colab": {
          "base_uri": "https://localhost:8080/"
        },
        "id": "3HzhdmR2ew3t",
        "outputId": "5bf0ce09-b64c-4f29-a6fe-70b542393c04"
      },
      "outputs": [
        {
          "output_type": "stream",
          "name": "stdout",
          "text": [
            "🪙 Koin yang digunakan: [25, 25, 5, 1, 1]\n"
          ]
        }
      ],
      "source": [
        "# Case 1: Coin Change\n",
        "\n",
        "def coin_change_greedy(amount, coins):\n",
        "    coins.sort(reverse=True)    # kriteria greedy: mengurutkan daftar koin dari yang terbesar ke terkecil agar greedy memilih koin terbesar dulu\n",
        "    result = []       # list untuk menyimpan kombinasi koin yang digunakan\n",
        "\n",
        "    # iterasi setiap koin\n",
        "    for coin in coins:\n",
        "        while amount >= coin:     # selama nilai amount lebih besar atau sama dengan koin:\n",
        "            amount -= coin        # kurangi amount dengan nilai koin yang diambil\n",
        "            result.append(coin)   # tambahkan koin yang diambil ke list result\n",
        "    return result             # mengembalikan list koin yang digunakan\n",
        "\n",
        "# Contoh penggunaan\n",
        "amount = 57\n",
        "coins = [25, 10, 5, 1]\n",
        "change = coin_change_greedy(amount, coins)\n",
        "print(\"🪙 Koin yang digunakan:\", change)"
      ]
    },
    {
      "cell_type": "code",
      "source": [
        "# Case 2: Fractional Knapsack\n",
        "\n",
        "def fractional_knapsack(items, capacity):\n",
        "    # items = list of tuples (value, weight)\n",
        "    items = sorted(items, key=lambda x: x[0]/x[1], reverse=True)    # mengurutkan barang berdasarkan rasio nilai per berat secara menurun\n",
        "\n",
        "    total_value = 0.0         # inisialisasi total nilai yang akan dibawa dengan desimal 0.0\n",
        "    for value, weight in items:\n",
        "        if capacity >= weight:    # jika kapasitas masih cukup, ambil semua barang\n",
        "            capacity -= weight\n",
        "            total_value += value\n",
        "        else:                     # jika kapasitas tidak cukup, ambil sebagian barang yang tersisa\n",
        "            total_value += value * (capacity / weight)\n",
        "            break                 # tidak bisa mengambil barang lagi karena kapasitas habis\n",
        "    return total_value    # mengembalikan nilai maksimum yang bisa dibawa\n",
        "\n",
        "# Contoh penggunaan\n",
        "items = [(60, 10), (100, 20), (120, 30)]    # (nilai, berat)\n",
        "capacity = 50         # berat = 50\n",
        "max_value = fractional_knapsack(items, capacity)\n",
        "print(\"🎒 Nilai maksimum yang dapat dibawa dengan kapasitas 50:\", max_value)"
      ],
      "metadata": {
        "colab": {
          "base_uri": "https://localhost:8080/"
        },
        "id": "LYopEbqnffW9",
        "outputId": "9fb8a684-d6ef-4778-9448-9006c12208d4"
      },
      "execution_count": 6,
      "outputs": [
        {
          "output_type": "stream",
          "name": "stdout",
          "text": [
            "🎒 Nilai maksimum yang dapat dibawa dengan kapasitas 50: 240.0\n"
          ]
        }
      ]
    },
    {
      "cell_type": "code",
      "source": [
        "# Minimum Spanning Tree: PRIM\n",
        "\n",
        "import heapq    # untuk membuat priority queue berbais min-heap\n",
        "\n",
        "def prim_mst(graph, start):\n",
        "    visited = set()           # menyimpan simpul yang sudah dikunjungi\n",
        "    min_heap = [(0, start)]   # min-heap untuk memilih edge/sisi dengan bobot terkecil (format (weight, node) atau (bobot, simpul))\n",
        "    total_weight = 0          # meenyimpan total bobot MST\n",
        "\n",
        "    # selama masih ada sisi yang bisa dipilih\n",
        "    while min_heap:\n",
        "        weight, node = heapq.heappop(min_heap)  # ambil sisi dengan bobot terkecil\n",
        "        if node in visited:     # jika simpul sudah dikunjungi, skip\n",
        "            continue\n",
        "\n",
        "        visited.add(node)       # tandai simpul yang sudah kunjungi\n",
        "        total_weight += weight  # tambahkan bobot sisi ke total MST\n",
        "\n",
        "        # loop untuk memeriksa semua tetangga dari simpul saat ini\n",
        "        for neighbor, edge_weight in graph[node]:\n",
        "            if neighbor not in visited:       # jika tetangga belum dikunnjungi\n",
        "                heapq.heappush(min_heap, (edge_weight, neighbor))   # tambahkan sisi ke heap\n",
        "    return total_weight     # total bobot MST dikembalikan\n",
        "\n",
        "# Representasi Graph: Adjacency List\n",
        "graph = {\n",
        "    'A': [('B', 2), ('C', 3)],\n",
        "    'B': [('A', 2), ('C', 1), ('D', 1)],\n",
        "    'C': [('A', 3), ('B', 1), ('D', 4)],\n",
        "    'D': [('B', 1), ('C', 4)]\n",
        "}\n",
        "\n",
        "# cetak total bobot MST\n",
        "print(\"🌲 Total bobot MST (Prim):\", prim_mst(graph, 'A'))"
      ],
      "metadata": {
        "colab": {
          "base_uri": "https://localhost:8080/"
        },
        "id": "BhZic_fVhKvl",
        "outputId": "e6552f53-ad5f-4470-b2eb-2e9f54c57e3c"
      },
      "execution_count": 7,
      "outputs": [
        {
          "output_type": "stream",
          "name": "stdout",
          "text": [
            "🌲 Total bobot MST (Prim): 4\n"
          ]
        }
      ]
    },
    {
      "cell_type": "code",
      "source": [
        "# Minimum Spanning Tree: KRUSKAL\n",
        "\n",
        "def kruskal_mst(edges, n_nodes):\n",
        "    parent = {i: i for i in range(n_nodes)}     # inisialisasi setiap simpul sebagai parent dirinya sendiri → untuk union-find\n",
        "\n",
        "    # fungsi untuk menemukan root dari sebuah node\n",
        "    def find(x):\n",
        "        while parent[x] != x:   # selama x bukan root-nya sendiri (masih punya parent)\n",
        "            x = parent[x]       # naik ke atas mengikuti parent hingga menemukan root\n",
        "        return x          # kembalikan root dari x\n",
        "\n",
        "    # fungsi untuk menyatukan dua set simpul\n",
        "    def union(x, y):\n",
        "        root_x = find(x)      # cari root dari x\n",
        "        root_y = find(y)      # cari root dari y\n",
        "        if root_x != root_y:\n",
        "            parent[root_y] = root_x   # satukan root y ke root x\n",
        "            return True     # union berhasil\n",
        "        return False        # root y & x sudah satu set, jadi tidak bisa disatukan lagi\n",
        "\n",
        "    edges.sort(key=lambda x: x[2])    # mengurutkan semua edge berdasarkan bobot secara menaik\n",
        "\n",
        "    total_weight = 0   # total bobot MST awal = 0\n",
        "    for u, v, weight in edges:\n",
        "        if union(u, v):             # jika edge tidak membentuk siklus\n",
        "            total_weight += weight  # tambahkan ke total bobot MST\n",
        "    return total_weight     # total bobot MST dikembalikan\n",
        "\n",
        "# edges: {node1, node2, weight}, nodes are represented by integers\n",
        "edges = [(0, 1, 2), (0, 2, 3), (1, 2, 1), (1, 3, 1), (2, 3, 4)]\n",
        "print(\"🌲 Total bobot MST (Kruskal):\", kruskal_mst(edges, 4))"
      ],
      "metadata": {
        "colab": {
          "base_uri": "https://localhost:8080/"
        },
        "id": "47XyEtzDkLxN",
        "outputId": "ed41024b-9db4-4b00-e908-408b8344e75a"
      },
      "execution_count": 8,
      "outputs": [
        {
          "output_type": "stream",
          "name": "stdout",
          "text": [
            "🌲 Total bobot MST (Kruskal): 4\n"
          ]
        }
      ]
    }
  ]
}