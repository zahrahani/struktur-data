{
  "nbformat": 4,
  "nbformat_minor": 0,
  "metadata": {
    "colab": {
      "provenance": [],
      "authorship_tag": "ABX9TyOrPNhytskM2y5LfD3QCfKv",
      "include_colab_link": true
    },
    "kernelspec": {
      "name": "python3",
      "display_name": "Python 3"
    },
    "language_info": {
      "name": "python"
    }
  },
  "cells": [
    {
      "cell_type": "markdown",
      "metadata": {
        "id": "view-in-github",
        "colab_type": "text"
      },
      "source": [
        "<a href=\"https://colab.research.google.com/github/zahrahani/struktur-data/blob/main/2420506024_Tugas_Strukdat_Hashing_ipynb.ipynb\" target=\"_parent\"><img src=\"https://colab.research.google.com/assets/colab-badge.svg\" alt=\"Open In Colab\"/></a>"
      ]
    },
    {
      "cell_type": "markdown",
      "source": [
        "\n",
        "\n",
        "```\n",
        "1. Eksperimen Sederhana Linear Probing\n",
        "\n",
        "Modifikasi kode LinearProbingHashTable dengan menambahkan 5 data ke dalam tabel yang berukuran 5\n",
        "Instruksi:\n",
        "  a. Buat objek LinearProbingHashTable dengan ukuran tabel 5\n",
        "  b. Masukkan pasangan key-value berikut:\n",
        "      \"A\": 10, \"B\": 20, \"C\": 30, \"D\": 40, \"E\": 50\n",
        "  c. Cetak isi array self.table setelah semua data dimasukkan\n",
        "  d. Jelaskan apa yang terjadi jika dua key memiliki hash yang sama\n",
        "```\n",
        "\n"
      ],
      "metadata": {
        "id": "tthdEWYDf0Ta"
      }
    },
    {
      "cell_type": "code",
      "execution_count": 12,
      "metadata": {
        "colab": {
          "base_uri": "https://localhost:8080/"
        },
        "id": "F8b9oM5xfQc8",
        "outputId": "1e8ba1fd-9227-4053-d054-0f197a266c98"
      },
      "outputs": [
        {
          "output_type": "stream",
          "name": "stdout",
          "text": [
            "🧮 Isi Array Linear Probing 🧮\n",
            "     Indeks ke-0: ('B', 20)\n",
            "     Indeks ke-1: ('A', 10)\n",
            "     Indeks ke-2: ('C', 30)\n",
            "     Indeks ke-3: ('E', 50)\n",
            "     Indeks ke-4: ('D', 40)\n"
          ]
        }
      ],
      "source": [
        "class LinearProbingHashTable:\n",
        "    def __init__(self, size):\n",
        "        self.size = size\n",
        "        self.table = [None] * size\n",
        "\n",
        "    def hash_function(self, key):\n",
        "        return hash(key) % self.size\n",
        "\n",
        "    def insert(self, key, value):\n",
        "        index = self.hash_function(key)\n",
        "        original_index = index\n",
        "\n",
        "        while self.table[index] is not None:\n",
        "            if self.table[index][0] == key:\n",
        "                break\n",
        "            index = (index + 1) % self.size\n",
        "            if index == original_index:\n",
        "                raise Exception(\"Hash table penuh\")\n",
        "\n",
        "        self.table[index] = (key, value)\n",
        "\n",
        "    def search(self, key):\n",
        "        index = self.hash_function(key)\n",
        "        original_index = index\n",
        "\n",
        "        while self.table[index] is not None:\n",
        "            if self.table[index][0] == key:\n",
        "                return self.table[index][1]\n",
        "            index = (index + 1) % self.size\n",
        "            if index == original_index:\n",
        "                break\n",
        "        return None\n",
        "\n",
        "# Objek LinearProbingHashTable dengan tabel berukuran 5\n",
        "ht = LinearProbingHashTable(5)\n",
        "\n",
        "# 5 pasangan data key-value yang mengisi Hash Table\n",
        "ht.insert(\"A\", 10)\n",
        "ht.insert(\"B\", 20)\n",
        "ht.insert(\"C\", 30)\n",
        "ht.insert(\"D\", 40)\n",
        "ht.insert(\"E\", 50)\n",
        "\n",
        "# Perintah cetak isi Hash Table\n",
        "print(\"🧮 Isi Array Linear Probing 🧮\")\n",
        "for i, item in enumerate(ht.table):\n",
        "    print(f\"     Indeks ke-{i}: {item}\")"
      ]
    },
    {
      "cell_type": "markdown",
      "source": [
        "\n",
        "\n",
        "```\n",
        "2. Percobaan Dasar Chaining\n",
        "\n",
        "Gunakan ChainingHashTable untuk menyisipka beberapa data yang menghasilkan Collision\n",
        "Instruksi:\n",
        "  a. Gunakan ukuran tabel 3\n",
        "  b. Masukkan key-value berikut:\n",
        "      \"apel\": 100, \"melon\": 200, \"lemon\": 300, \"pisang\": 400\n",
        "  c. Cetak isi tabel self.table dan tampilkan semua data yang disimpan di setiap slot\n",
        "  d. Jelaskan bagaimana Collision ditangani dalam metode Chaining\n",
        "```\n",
        "\n"
      ],
      "metadata": {
        "id": "bdbzevbRgcYy"
      }
    },
    {
      "cell_type": "code",
      "source": [
        "class ChainingHashTable:\n",
        "    def __init__(self, size):\n",
        "        self.size = size\n",
        "        self.table = [[] for _ in range(size)]\n",
        "\n",
        "    def hash_function(self, key):\n",
        "        return hash(key) % self.size\n",
        "\n",
        "    def insert(self, key, value):\n",
        "        index = self.hash_function(key)\n",
        "        for i, (k, v) in enumerate(self.table[index]):\n",
        "            if k == key:\n",
        "                self.table[index][i] = (key, value)\n",
        "                return\n",
        "\n",
        "        self.table[index].append((key, value))\n",
        "\n",
        "    def search(self, key):\n",
        "        index = self.hash_function(key)\n",
        "        for k, v in self.table[index]:\n",
        "            if k == key:\n",
        "                return v\n",
        "        return None\n",
        "\n",
        "# Objek ChainingHashTable dengan tabel berukuran 3\n",
        "ht = ChainingHashTable(3)\n",
        "\n",
        "# 3 pasangan data key-value yang mengisi Hash Table\n",
        "ht.insert(\"apel\", 100)\n",
        "ht.insert(\"melon\", 200)\n",
        "ht.insert(\"lemon\", 300)\n",
        "ht.insert(\"pisang\", 400)\n",
        "\n",
        "# Perintah cetak isi Hash Table\n",
        "print(\"        🍎 Daftar Buah-buahan Di Setiap Slot 🍎\")\n",
        "for i, item in enumerate(ht.table):\n",
        "    print(f\"Slot {i}: {item}\")"
      ],
      "metadata": {
        "colab": {
          "base_uri": "https://localhost:8080/"
        },
        "id": "deLUmJS3hEo4",
        "outputId": "a0a64482-8240-45a4-b56b-b54049eca6e3"
      },
      "execution_count": 20,
      "outputs": [
        {
          "output_type": "stream",
          "name": "stdout",
          "text": [
            "        🍎 Daftar Buah-buahan Di Setiap Slot 🍎\n",
            "Slot 0: [('apel', 100), ('lemon', 300), ('pisang', 400)]\n",
            "Slot 1: [('melon', 200)]\n",
            "Slot 2: []\n"
          ]
        }
      ]
    }
  ]
}