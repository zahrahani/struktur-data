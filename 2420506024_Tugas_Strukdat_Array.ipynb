{
  "nbformat": 4,
  "nbformat_minor": 0,
  "metadata": {
    "colab": {
      "provenance": [],
      "authorship_tag": "ABX9TyNNQ6XN5LaYWQ/mbPoVoh4p",
      "include_colab_link": true
    },
    "kernelspec": {
      "name": "python3",
      "display_name": "Python 3"
    },
    "language_info": {
      "name": "python"
    }
  },
  "cells": [
    {
      "cell_type": "markdown",
      "metadata": {
        "id": "view-in-github",
        "colab_type": "text"
      },
      "source": [
        "<a href=\"https://colab.research.google.com/github/zahrahani/struktur-data/blob/main/2420506024_Tugas_Strukdat_Array.ipynb\" target=\"_parent\"><img src=\"https://colab.research.google.com/assets/colab-badge.svg\" alt=\"Open In Colab\"/></a>"
      ]
    },
    {
      "cell_type": "markdown",
      "source": [
        "# TUGAS WEEK 1 - ARRAY"
      ],
      "metadata": {
        "id": "yPkrcpGmAxNP"
      }
    },
    {
      "cell_type": "markdown",
      "source": [
        "SEBELUM DIMODIFIKASI"
      ],
      "metadata": {
        "id": "GOC28qlHApmD"
      }
    },
    {
      "cell_type": "code",
      "execution_count": null,
      "metadata": {
        "id": "pCe1T3ZuFAky"
      },
      "outputs": [],
      "source": [
        "# Ukuran peta\n",
        "size = 10\n",
        "\n",
        "# Membuat peta dengan harta karun tersembunyi\n",
        "treasure_map = [\"_\" for _ in range(size)]\n",
        "\n",
        "# Tentukan lokasi harta karun secara manual\n",
        "print(f\"Selamat datang di Treasure Hunt! Peta memiliki {size} lokasi (0 hingga {size-1}).\")\n",
        "treasure_index = int(input(f\"Masukkan lokasi harta karun (0-{size-1}): \"))\n",
        "while treasure_index < 0 or treasure_index >= size:\n",
        "    print(\"Lokasi tidak valid. Masukkan angka dalam rentang yang benar.\")\n",
        "    treasure_index = int(input(f\"Masukkan lokasi harta karun (0-{size-1}): \"))\n",
        "\n",
        "treasure_map[treasure_index] = \"X\"    # Menyembunyikan harta karun di lokasi yang dipilih\n",
        "\n",
        "# Fungsi untuk memulai permainan\n",
        "def play_treasure_hunt():\n",
        "    print(\"\\n Harta karun telah disembunyikan! Sekarang giliran pemain menembak.\")\n",
        "    print(\"Cobalah untuk menemukan harta karun dengan menembak indeks yang benar.\")\n",
        "\n",
        "    # Loop permainan\n",
        "    while True:\n",
        "        # Menampilkan peta tersembunyi kepada pemain\n",
        "        print(\"\\nPeta saat ini: \", [\"_\" for _ in range(size)])  # Peta tersembunyi\n",
        "\n",
        "        # Input pemain\n",
        "        try:\n",
        "            guess = int(input(f\"Masukkan indeks tembakanmu (0-{size-1}): \"))\n",
        "        except ValueError:\n",
        "            print(\"Masukkan angka yang valid!\")\n",
        "            continue\n",
        "\n",
        "        # Validasi input\n",
        "        if guess < 0 or guess >= size:\n",
        "            print(\"Indeks tidak valid, pilih antara 0 hingga\", size-1)\n",
        "            continue\n",
        "\n",
        "        # Mengecek apakah tebakan benar atau salah\n",
        "        if treasure_map[guess] == \"X\":\n",
        "            print(\"Selamat! Kamu menemukan harta karun di lokasi:\", guess)\n",
        "            break\n",
        "        else:\n",
        "            print(\"Tidak ada harta di lokasi ini. Coba lagi!\")\n",
        "\n",
        "    print(\"Terima kasih sudah bermain!\")\n",
        "\n",
        "# Jalankan permainan\n",
        "play_treasure_hunt()"
      ]
    },
    {
      "cell_type": "markdown",
      "source": [
        "SETELAH DIMODIFIKASI"
      ],
      "metadata": {
        "id": "UddhcBZMAtwc"
      }
    },
    {
      "cell_type": "code",
      "source": [
        "# Import modul random\n",
        "import random\n",
        "\n",
        "# Ukuran peta\n",
        "size = int(input(\"Masukkan ukuran peta : \"))\n",
        "\n",
        "# Membuat peta dengan harta karun tersembunyi\n",
        "treasure_map = [\"_\" for _ in range(size)]\n",
        "\n",
        "# Random lokasi harta karun secara otomatis\n",
        "print(f\"Selamat datang di Treasure Hunt! Peta memiliki {size} lokasi (0 hingga {size-1}).\")\n",
        "treasure_index = random.randint(0, size-1)\n",
        "treasure_map[treasure_index] = \"X\"\n",
        "\n",
        "# Fungsi untuk memulai permainan\n",
        "def play_treasure_hunt():\n",
        "    print(\"\\n Harta karun telah disembunyikan! Sekarang giliran pemain menembak.\")\n",
        "    print(\"Cobalah untuk menemukan harta karun dengan menembak indeks yang benar.\")\n",
        "\n",
        "    # Loop permainan\n",
        "    while True:\n",
        "        # Menampilkan peta tersembunyi kepada pemain\n",
        "        print(\"\\nPeta saat ini: \", [\"_\" for _ in range(size)])  # Peta tersembunyi\n",
        "\n",
        "        # Input pemain\n",
        "        try:\n",
        "            guess = int(input(f\"Masukkan indeks tembakanmu (0-{size-1}): \"))\n",
        "        except ValueError:\n",
        "            print(\"Masukkan angka yang valid!\")\n",
        "            continue\n",
        "\n",
        "        # Validasi input\n",
        "        if guess < 0 or guess >= size:\n",
        "            print(\"Indeks tidak valid, pilih antara 0 hingga\", size-1)\n",
        "            continue\n",
        "\n",
        "        # Mengecek apakah tebakan benar atau salah\n",
        "        if treasure_map[guess] == \"X\":\n",
        "            print(\"Selamat! Kamu menemukan harta karun di lokasi:\", guess)\n",
        "            break\n",
        "        else:\n",
        "            print(\"Tidak ada harta di lokasi ini. Coba lagi!\")\n",
        "\n",
        "    print(\"Terima kasih sudah bermain!\")\n",
        "\n",
        "# Jalankan permainan\n",
        "play_treasure_hunt()"
      ],
      "metadata": {
        "id": "A7ZiDUcdqa9r"
      },
      "execution_count": null,
      "outputs": []
    }
  ]
}