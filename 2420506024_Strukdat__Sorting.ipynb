{
  "nbformat": 4,
  "nbformat_minor": 0,
  "metadata": {
    "colab": {
      "provenance": [],
      "authorship_tag": "ABX9TyOHvdbqk+mYp/hPG0dGJc0i",
      "include_colab_link": true
    },
    "kernelspec": {
      "name": "python3",
      "display_name": "Python 3"
    },
    "language_info": {
      "name": "python"
    }
  },
  "cells": [
    {
      "cell_type": "markdown",
      "metadata": {
        "id": "view-in-github",
        "colab_type": "text"
      },
      "source": [
        "<a href=\"https://colab.research.google.com/github/zahrahani/struktur-data/blob/main/2420506024_Strukdat__Sorting.ipynb\" target=\"_parent\"><img src=\"https://colab.research.google.com/assets/colab-badge.svg\" alt=\"Open In Colab\"/></a>"
      ]
    },
    {
      "cell_type": "markdown",
      "source": [
        "# Sorting"
      ],
      "metadata": {
        "id": "TPHPsDwJpzLX"
      }
    },
    {
      "cell_type": "markdown",
      "source": [
        "1. Bubble Sort -- Membandingkan 2 elemen yang berdekatan"
      ],
      "metadata": {
        "id": "3AXPamVRp4KO"
      }
    },
    {
      "cell_type": "code",
      "execution_count": null,
      "metadata": {
        "colab": {
          "base_uri": "https://localhost:8080/"
        },
        "id": "5MWW-D8epk9C",
        "outputId": "692c8261-ecd7-4e2c-9819-bc7b80bb72be"
      },
      "outputs": [
        {
          "output_type": "stream",
          "name": "stdout",
          "text": [
            "Data sebelum sorting    : [64, 34, 25, 12, 22, 11, 90]\n",
            "Data setelah Bubble Sort: [11, 12, 22, 25, 34, 64, 90]\n"
          ]
        }
      ],
      "source": [
        "def BubbleSort(arr):\n",
        "    n = len(arr)\n",
        "    for i in range(n - 1):    # mengontrol jumlah iterasi\n",
        "        for j in range(n - i - 1):    # membandingkan 2 elemen yang berdekatan\n",
        "            if arr[j] > arr[j + 1]:   # menukar posisi elemen jika tidak berurutan\n",
        "                arr[j], arr[j + 1] = arr[j + 1], arr[j]\n",
        "    return arr    # mengembalikan array yang sudah diurutkan\n",
        "\n",
        "# Contoh Penggunaan\n",
        "data = [64, 34, 25, 12, 22, 11, 90]\n",
        "sorted_data = BubbleSort(data.copy())\n",
        "print(\"Data sebelum sorting    :\", data)\n",
        "print(\"Data setelah Bubble Sort:\", sorted_data)"
      ]
    },
    {
      "cell_type": "markdown",
      "source": [
        "2. Selection Sort -- Mencari elemen terkecil"
      ],
      "metadata": {
        "id": "eP963OB0r8nX"
      }
    },
    {
      "cell_type": "code",
      "source": [
        "def SelectionSort(arr):\n",
        "    n = len(arr)\n",
        "    for i in range(n - 1):\n",
        "        min_index = i     # menyimpan elemen terkecil dalam iterasi yang sedang dilakukan\n",
        "        for j in range(i + 1, n):     # mencari elemen terkecil dari sisa daftar\n",
        "            if arr[j] < arr[min_index]:\n",
        "                min_index = j     # memperbarui elemen terkecil yang baru saja ditemukan\n",
        "        arr[i], arr[min_index] = arr[min_index], arr[i]   # menukar elemen terkecil ke posisi yang benar\n",
        "    return arr\n",
        "\n",
        "# Contoh Penggunaan\n",
        "data = [64, 25, 12, 22, 11]\n",
        "sorted_data = SelectionSort(data.copy())\n",
        "print(\"Data sebelum sorting       :\", data)\n",
        "print(\"Data setelah Selection Sort:\", sorted_data)"
      ],
      "metadata": {
        "colab": {
          "base_uri": "https://localhost:8080/"
        },
        "id": "2vGgyrFGrARI",
        "outputId": "f8b1eff5-d7df-4263-ac69-cb394999f6c2"
      },
      "execution_count": null,
      "outputs": [
        {
          "output_type": "stream",
          "name": "stdout",
          "text": [
            "Data sebelum sorting       : [64, 25, 12, 22, 11]\n",
            "Data setelah Selection Sort: [11, 12, 22, 25, 64]\n"
          ]
        }
      ]
    },
    {
      "cell_type": "markdown",
      "source": [
        "3. Insertion Sort -- Menyusun elemen satu satu dan menyisipkannya ke posisi yang tepat"
      ],
      "metadata": {
        "id": "1qJoELM4s9Uo"
      }
    },
    {
      "cell_type": "code",
      "source": [
        "def InsertionSort(arr):\n",
        "    n = len(arr)\n",
        "    for i in range(1, n):\n",
        "        key = arr[i]    # key = elemen yang akan dimasukkan ke dalam daftar\n",
        "        j = i - 1\n",
        "        while j >= 0 and arr[j] > key:   # menggeser elemen yang lebih besar dari key ke kanan daftar yang sudah terurut\n",
        "            arr[j + 1] = arr[j]\n",
        "            j -= 1\n",
        "        arr[j + 1] = key\n",
        "    return arr\n",
        "\n",
        "# Contoh Penggunaan\n",
        "data = [64, 34, 25, 12, 22, 11, 90]\n",
        "sorted_data = InsertionSort(data.copy())\n",
        "print(\"Data sebelum sorting:\", data)\n",
        "print(\"Data setelah Insertion Sort:\", sorted_data)"
      ],
      "metadata": {
        "colab": {
          "base_uri": "https://localhost:8080/"
        },
        "id": "WjWpvpeNs6tQ",
        "outputId": "e91e73ab-6a86-4428-ffab-dccd8c43285e"
      },
      "execution_count": null,
      "outputs": [
        {
          "output_type": "stream",
          "name": "stdout",
          "text": [
            "Data sebelum sorting: [64, 34, 25, 12, 22, 11, 90]\n",
            "Data setelah Insertion Sort: [11, 12, 22, 25, 34, 64, 90]\n"
          ]
        }
      ]
    },
    {
      "cell_type": "markdown",
      "source": [
        "4. Merge Sort -- Membagi array menjadi 2 bagian, Mengurutkan elemen secara terpisah, Menggabungkannya lagi menjadi array utuh"
      ],
      "metadata": {
        "id": "aW-tPBc-uATI"
      }
    },
    {
      "cell_type": "code",
      "source": [
        "def MergeSort(arr):\n",
        "    if len(arr) > 1:\n",
        "        mid = len(arr) // 2   # membagi daftar menjadi 2 bagian\n",
        "        left_half = arr[:mid]   # bagian kiri\n",
        "        right_half = arr[mid:]  # bagian kanan\n",
        "\n",
        "        MergeSort(left_half)\n",
        "        MergeSort(right_half)\n",
        "\n",
        "        i = j = k = 0\n",
        "\n",
        "        # membandingkan setiap elemen dari kedua bagian satu per satu\n",
        "        while i < len(left_half) and j < len(right_half):\n",
        "            if left_half[i] < right_half[j]:\n",
        "                arr[k] = left_half[i]\n",
        "                i += 1\n",
        "            else:\n",
        "                arr[k] = right_half[j]\n",
        "                j += 1\n",
        "            k += 1\n",
        "\n",
        "        # memastikan sisa elemen di setiap bagian dimasukkan ke daftar utama\n",
        "        while i < len(left_half):\n",
        "            arr[k] = left_half[i]\n",
        "            i += 1\n",
        "            k += 1\n",
        "\n",
        "        while j < len(right_half):\n",
        "            arr[k] = right_half[j]\n",
        "            j += 1\n",
        "            k += 1\n",
        "\n",
        "    return arr\n",
        "\n",
        "# Contoh Penggunaan\n",
        "data = [64, 25, 12, 22, 11]\n",
        "sorted_data = MergeSort(data.copy())\n",
        "print(\"Data sebelum sorting   :\", data)\n",
        "print(\"Data setelah Merge Sort:\", sorted_data)"
      ],
      "metadata": {
        "colab": {
          "base_uri": "https://localhost:8080/"
        },
        "id": "GIh-T3s9t7oZ",
        "outputId": "924ddb9c-4258-475a-efe8-ab27f0b56eb3"
      },
      "execution_count": null,
      "outputs": [
        {
          "output_type": "stream",
          "name": "stdout",
          "text": [
            "Data sebelum sorting   : [64, 25, 12, 22, 11]\n",
            "Data setelah Merge Sort: [11, 12, 22, 25, 64]\n"
          ]
        }
      ]
    },
    {
      "cell_type": "markdown",
      "source": [
        "5. Quick Sort -- Menentukan pivot dan membagi array menjadi 2 bagian"
      ],
      "metadata": {
        "id": "0t5kLA1-uB6w"
      }
    },
    {
      "cell_type": "code",
      "source": [
        "def QuickSort(arr):\n",
        "    # jika panjang daftar <= 1 elemen, program akan mengembalikan elemen tersebut sebagai output\n",
        "    if len(arr) <= 1:\n",
        "       return arr\n",
        "\n",
        "    # menentukan pivot\n",
        "    pivot = arr[len(arr) // 2]\n",
        "\n",
        "    # membagi daftar menjadi 3 bagian berdasarkan pivot\n",
        "    left = [x for x in arr if x < pivot]\n",
        "    middle = [x for x in arr if x == pivot]\n",
        "    right = [x for x in arr if x > pivot]\n",
        "\n",
        "    # menggabungkan ketiga bagian menjadi satu dalam bentuk daftar terurut\n",
        "    return QuickSort(left) + middle + QuickSort(right)\n",
        "\n",
        "# Contoh Penggunaan\n",
        "data = [64, 25, 12, 22, 11]\n",
        "sorted_data = QuickSort(data.copy())\n",
        "print(\"Data sebelum sorting   :\", data)\n",
        "print(\"Data setelah Quick Sort:\", sorted_data)"
      ],
      "metadata": {
        "colab": {
          "base_uri": "https://localhost:8080/"
        },
        "id": "yscuCGpauEDY",
        "outputId": "b0cae608-a777-45b4-f32a-6c202f19c074"
      },
      "execution_count": null,
      "outputs": [
        {
          "output_type": "stream",
          "name": "stdout",
          "text": [
            "Data sebelum sorting   : [64, 25, 12, 22, 11]\n",
            "Data setelah Quick Sort: [11, 12, 22, 25, 64]\n"
          ]
        }
      ]
    },
    {
      "cell_type": "markdown",
      "source": [
        "## Latihan / Tugas"
      ],
      "metadata": {
        "id": "2Ou30db4uF4o"
      }
    },
    {
      "cell_type": "markdown",
      "source": [
        "\n",
        "\n",
        "```\n",
        "Praktikum Struktur Data Rombel 02 - Optimasi Pencarian Produk di Marketplace\n",
        "\n",
        "Studi kasus:\n",
        "Marketplace sering menampilkan produk berdasarkan harga terendah hingga tertinggi atau berdasarkan rating pelanggan.\n",
        "\n",
        "Perintah:\n",
        "Buat program yang mengurutkan daftar produk menggunakan algoritma sorting.\n",
        "\n",
        "```\n",
        "\n"
      ],
      "metadata": {
        "id": "YOKt7XT_u_2h"
      }
    },
    {
      "cell_type": "code",
      "source": [
        "# Program pengurutan produk di marketplace menggunakan metode Quick Sort\n",
        "# Pengurutan (ascending) bisa dilakukan berdasarkan harga atau rating pelanggan\n",
        "\n",
        "# Sorting produk menggunakan metode Quick Sort\n",
        "def QuickSort(product, key):\n",
        "    if len(product) <= 1:\n",
        "       return product\n",
        "\n",
        "    pivot = product[len(product) // 2]\n",
        "    left = [x for x in product if x[key] < pivot[key]]\n",
        "    middle = [x for x in product if x[key] == pivot[key]]\n",
        "    right = [x for x in product if x[key] > pivot[key]]\n",
        "\n",
        "    return QuickSort(left, key) + middle + QuickSort(right, key)\n",
        "\n",
        "# Membuat daftar produk\n",
        "products = [\n",
        "    {\"name\": \"Smartwatch\", \"price\": 850000, \"rate\": 4.7},\n",
        "    {\"name\": \"Earphone\", \"price\": 350000, \"rate\": 4.9},\n",
        "    {\"name\": \"DigiCam\", \"price\": 1900000, \"rate\": 4.8},\n",
        "    {\"name\": \"Tablet\", \"price\": 5450000, \"rate\": 4.6},\n",
        "    {\"name\": \"Power Bank\", \"price\": 500000, \"rate\": 4.7}\n",
        "]\n",
        "\n",
        "# Menampilkan katalog produk sebelum sorting\n",
        "print(\"🛍️ Katalog Produk ShipShop 🛍️\")\n",
        "print(\"-\" * 30)\n",
        "print(f\"{'Nama Produk':<13} {'Harga':>8} {'Rate':>7}\")\n",
        "print(\"=\" * 30)\n",
        "for p in products:\n",
        "    print(f\"{p['name']:<13} {p['price']:>8} {p['rate']:>7}\")\n",
        "print(\"-\" * 30)\n",
        "print()\n",
        "\n",
        "# Loop utama program\n",
        "while True:\n",
        "    # Menampilkan pilihan menu sorting\n",
        "    print(\"📍       Menu Sorting       📍\")\n",
        "    print(\"1. Harga (Murah → Mahal)\")\n",
        "    print(\"2. Rating (Rendah → Tinggi)\")\n",
        "    print(\"3. Keluar\")\n",
        "\n",
        "    # Meminta input user\n",
        "    try:\n",
        "        menu = int(input(\"Sorting berdasarkan (1/2/3): \"))\n",
        "        print()\n",
        "    except ValueError:\n",
        "        print()\n",
        "        print(\"⚠️  Input harus berupa angka  ⚠️\")\n",
        "        print()\n",
        "        continue\n",
        "\n",
        "    # Memproses menu pilihan user\n",
        "    if menu == 1:\n",
        "        key = \"price\"\n",
        "    elif menu == 2:\n",
        "        key = \"rate\"\n",
        "    elif menu == 3:\n",
        "        print(\"👋 Anda keluar dari Program 👋\")\n",
        "        break\n",
        "    else:\n",
        "        print(\"     ❗ Invalid input ❗      \")\n",
        "        print()\n",
        "\n",
        "    # Mengurutkan produk berdasarkan menu pilihan user\n",
        "    sorted_products = QuickSort(products, key)\n",
        "\n",
        "    # Menampilkan katalog produk setelah sorting\n",
        "    print(\"🛍️ Katalog Produk ShipShop 🛍️\")\n",
        "    print(\"      (setelah  sorting)      \")\n",
        "    print(\"-\" * 30)\n",
        "    print(f\"{'Nama Produk':<13} {'Harga':>8} {'Rate':>7}\")\n",
        "    print(\"=\" * 30)\n",
        "    for p in sorted_products:\n",
        "        print(f\"{p['name']:<13} {p['price']:>8} {p['rate']:>7}\")\n",
        "    print(\"-\" * 30)\n",
        "    print()"
      ],
      "metadata": {
        "id": "H27o-vKKz9_a",
        "colab": {
          "base_uri": "https://localhost:8080/"
        },
        "outputId": "473b9a21-c275-4932-e995-7cdc9865f030"
      },
      "execution_count": 2,
      "outputs": [
        {
          "output_type": "stream",
          "name": "stdout",
          "text": [
            "🛍️ Katalog Produk ShipShop 🛍️\n",
            "------------------------------\n",
            "Nama Produk      Harga    Rate\n",
            "==============================\n",
            "Smartwatch      850000     4.7\n",
            "Earphone        350000     4.9\n",
            "DigiCam        1900000     4.8\n",
            "Tablet         5450000     4.6\n",
            "Power Bank      500000     4.7\n",
            "------------------------------\n",
            "\n",
            "📍       Menu Sorting       📍\n",
            "1. Harga (Murah → Mahal)\n",
            "2. Rating (Rendah → Tinggi)\n",
            "3. Keluar\n",
            "Sorting berdasarkan (1/2/3): 1\n",
            "\n",
            "🛍️ Katalog Produk ShipShop 🛍️\n",
            "      (setelah  sorting)      \n",
            "------------------------------\n",
            "Nama Produk      Harga    Rate\n",
            "==============================\n",
            "Earphone        350000     4.9\n",
            "Power Bank      500000     4.7\n",
            "Smartwatch      850000     4.7\n",
            "DigiCam        1900000     4.8\n",
            "Tablet         5450000     4.6\n",
            "------------------------------\n",
            "\n",
            "📍       Menu Sorting       📍\n",
            "1. Harga (Murah → Mahal)\n",
            "2. Rating (Rendah → Tinggi)\n",
            "3. Keluar\n",
            "Sorting berdasarkan (1/2/3): 2\n",
            "\n",
            "🛍️ Katalog Produk ShipShop 🛍️\n",
            "      (setelah  sorting)      \n",
            "------------------------------\n",
            "Nama Produk      Harga    Rate\n",
            "==============================\n",
            "Tablet         5450000     4.6\n",
            "Smartwatch      850000     4.7\n",
            "Power Bank      500000     4.7\n",
            "DigiCam        1900000     4.8\n",
            "Earphone        350000     4.9\n",
            "------------------------------\n",
            "\n",
            "📍       Menu Sorting       📍\n",
            "1. Harga (Murah → Mahal)\n",
            "2. Rating (Rendah → Tinggi)\n",
            "3. Keluar\n",
            "Sorting berdasarkan (1/2/3): dua\n",
            "\n",
            "⚠️  Input harus berupa angka  ⚠️\n",
            "\n",
            "📍       Menu Sorting       📍\n",
            "1. Harga (Murah → Mahal)\n",
            "2. Rating (Rendah → Tinggi)\n",
            "3. Keluar\n",
            "Sorting berdasarkan (1/2/3): 5\n",
            "\n",
            "     ❗ Invalid input ❗      \n",
            "\n",
            "🛍️ Katalog Produk ShipShop 🛍️\n",
            "      (setelah  sorting)      \n",
            "------------------------------\n",
            "Nama Produk      Harga    Rate\n",
            "==============================\n",
            "Tablet         5450000     4.6\n",
            "Smartwatch      850000     4.7\n",
            "Power Bank      500000     4.7\n",
            "DigiCam        1900000     4.8\n",
            "Earphone        350000     4.9\n",
            "------------------------------\n",
            "\n",
            "📍       Menu Sorting       📍\n",
            "1. Harga (Murah → Mahal)\n",
            "2. Rating (Rendah → Tinggi)\n",
            "3. Keluar\n",
            "Sorting berdasarkan (1/2/3): 3\n",
            "\n",
            "👋 Anda keluar dari Program 👋\n"
          ]
        }
      ]
    }
  ]
}