{
  "nbformat": 4,
  "nbformat_minor": 0,
  "metadata": {
    "colab": {
      "provenance": [],
      "authorship_tag": "ABX9TyN0q1k+n0DXXrFjv7bujqOb",
      "include_colab_link": true
    },
    "kernelspec": {
      "name": "python3",
      "display_name": "Python 3"
    },
    "language_info": {
      "name": "python"
    }
  },
  "cells": [
    {
      "cell_type": "markdown",
      "metadata": {
        "id": "view-in-github",
        "colab_type": "text"
      },
      "source": [
        "<a href=\"https://colab.research.google.com/github/zahrahani/struktur-data/blob/main/2420506024_Tugas_Strukdat_Tree.ipynb\" target=\"_parent\"><img src=\"https://colab.research.google.com/assets/colab-badge.svg\" alt=\"Open In Colab\"/></a>"
      ]
    },
    {
      "cell_type": "markdown",
      "source": [
        "\n",
        "\n",
        "```\n",
        "Tugas 1: Program Struktur Binary Tree Manual\n",
        "\n",
        "Deskripsi:\n",
        "Buat program python untuk membangun binary tree secara manual (bukan BST)\n",
        "berdasarkan data yang Anda olah dari nama dan NPM.\n",
        "\n",
        "Ketentuan:\n",
        "- Node root = jumlah huruf pada nama lengkap Anda\n",
        "- Anak kiri root = jumlah huruf vokal (a, i, u, e, o) pada nama Anda\n",
        "- Anak kanan root = dua digit terakhir dari NPM Anda\n",
        "- Tambahkan satu level anak lagi (anak dari anak) berdasarkan tanggal lahir Anda:\n",
        "  - Anak kiri dari node kiri = tanggal (DD)\n",
        "  - Anak kanan dari node kanan = bulan (MM)\n",
        "- Tampilkan Tree dengan inorder traversal\n",
        "\n",
        "Output yang Diharapkan:\n",
        "- Struktur Tree ditampilkan menggunakan print traversal\n",
        "- Tambahkan komentar di atas program: \"Struktur Tree berdasarkan identitas saya\"\n",
        "\n",
        "Solusi:\n",
        "Diperoleh data masing-masing node seperti berikut:\n",
        "  1. root = 21\n",
        "  2. anak kiri root = 2\n",
        "  3. anak kanan root = 24\n",
        "  4. anak kiri dari node kiri = 12\n",
        "  5. anak kanan dari node kanan = 04 -> 4\n",
        "```\n",
        "\n"
      ],
      "metadata": {
        "id": "8P096QYrWL1p"
      }
    },
    {
      "cell_type": "code",
      "execution_count": 1,
      "metadata": {
        "id": "DG7h1hEsakgT",
        "colab": {
          "base_uri": "https://localhost:8080/"
        },
        "outputId": "87cc9d6e-7d86-4ec7-d6d1-195d0f8899f2"
      },
      "outputs": [
        {
          "output_type": "stream",
          "name": "stdout",
          "text": [
            "Hasil Struktur Binary Tree:\n",
            "12 2 21 24 4 "
          ]
        }
      ],
      "source": [
        "# Struktur Tree berdasarkan identitas saya\n",
        "\n",
        "# Membentuk struktur node\n",
        "class Node:\n",
        "    def __init__(self, data):\n",
        "        self.data = data\n",
        "        self.left = None\n",
        "        self.right = None\n",
        "\n",
        "# Membuat Binary Tree secara manual\n",
        "root = Node(21)\n",
        "root.left = Node(2)\n",
        "root.right = Node(24)\n",
        "root.left.left = Node(12)\n",
        "root.right.right = Node(4)\n",
        "\n",
        "# Menampilkan Struktur Tree menggunakan metode Inorder Traversal\n",
        "def inorder(node):\n",
        "    if node:\n",
        "        inorder(node.left)\n",
        "        print(node.data, end=' ')\n",
        "        inorder(node.right)\n",
        "\n",
        "print(\"Hasil Struktur Binary Tree:\")\n",
        "inorder(root)"
      ]
    },
    {
      "cell_type": "markdown",
      "source": [
        "\n",
        "\n",
        "```\n",
        "Tugas 2: Program Binary Search Tree (BST)\n",
        "\n",
        "Deskripsi:\n",
        "Buat program Python untuk membentuk BST secara otomatis dari data numerik yang unik bagi Anda.\n",
        "\n",
        "Ketentuan:\n",
        "- Buat daftar 7 angka dengan aturan berikut:\n",
        "  1. 3 digit terakhir NPM Anda\n",
        "  2. Tanggal lahir (DDMM, pisahkan menjadi 2 angka: DD dan MM)\n",
        "  3. ASCII dari huruf pertama dan kedua nama depan Anda\n",
        "  4. Tambahkan 2 angka bebas (boleh favorit Anda)\n",
        "- Sisipkan semua angka tersebut ke dalam BST\n",
        "- Tampilkan hasil traversal:\n",
        "  - Inorder\n",
        "  - Preorder\n",
        "  - Postorder\n",
        "- Tambahkan fitur pencarian:\n",
        "  - Cari angka dengan nilai dua digit terakhir NPM Anda\n",
        "  - Cari angka yang tidak termasuk dalam list (buat sendiri)\n",
        "\n",
        "Output yang Diharapkan:\n",
        "- Hasil setiap traversal tercetak rapi\n",
        "- Hasil pencarian menunjukkan apakah data ditemukan atau tidak\n",
        "- Tambahkan komentar penjelasan pendek di setiap bagian kode\n",
        "\n",
        "Solusi:\n",
        "Diperoleh daftar 7 angka sesuai ketentuan yang diminta:\n",
        "  1. 024 -> 24\n",
        "  2. 12, 04 -> 4\n",
        "  3. 90, 97\n",
        "  4. 7, 5\n",
        "```\n",
        "\n"
      ],
      "metadata": {
        "id": "rvATNvXibWZG"
      }
    },
    {
      "cell_type": "code",
      "source": [
        "# Binary Search Tree NPM 024\n",
        "\n",
        "# Membentuk struktur node\n",
        "class Node:\n",
        "    def __init__(self, data):\n",
        "        self.data = data\n",
        "        self.left = None\n",
        "        self.right = None\n",
        "\n",
        "# Implemantasi BST\n",
        "class BinarySearchTree:\n",
        "    def __init__(self):\n",
        "        self.root = None  # Inisialisasi tree dengan root kosong\n",
        "\n",
        "    # Menyisipkan data ke dalam Tree sesuai aturan BST\n",
        "    def insert(self, root, data):\n",
        "        # Jika Tree atau node root kosong, buat node baru\n",
        "        if root is None:\n",
        "            return Node(data)\n",
        "        if data < root.data:\n",
        "            root.left = self.insert(root.left, data)  # Jika nilai data < parent, data disisipkan ke left child\n",
        "        else:\n",
        "            root.right = self.insert(root.right, data)  # Jika nilai data > parent, data disisipkan ke right child\n",
        "        return root\n",
        "\n",
        "# Membuat objek BST\n",
        "bst = BinarySearchTree()\n",
        "root = None\n",
        "\n",
        "# Menambahkan elemen dari data_list ke dalam BST\n",
        "data_list = (24, 12, 4, 90, 97, 7, 5)\n",
        "for value in data_list:\n",
        "    root = bst.insert(root, value)\n",
        "\n",
        "# 3 metode traversal pada Tree\n",
        "# Inorder Traversal\n",
        "def inorder(node):\n",
        "    if node:\n",
        "        inorder(node.left)        # Akses subtree kiri hingga akhir\n",
        "        print(node.data, end=' ') # Cetak node saat ini\n",
        "        inorder(node.right)       # Akses subtree kanan hingga akhir\n",
        "\n",
        "# Preorder Traversal\n",
        "def preorder(node):\n",
        "    if node:\n",
        "        print(node.data, end=' ') # Cetak node saat ini\n",
        "        preorder(node.left)       # Akses subtree kiri hingga akhir\n",
        "        preorder(node.right)      # Akses subtree kanan hingga akhir\n",
        "\n",
        "# Postorder Traversal\n",
        "def postorder(node):\n",
        "    if node:\n",
        "        postorder(node.left)      # Akses subtree kiri hingga akhir\n",
        "        postorder(node.right)     # Akses subtree kanan hingga akhir\n",
        "        print(node.data, end=' ') # Cetak node saat ini\n",
        "\n",
        "# Menampilkan Tree hasil traversal dengan 3 metode\n",
        "print(\"🌳 \\033[1mHasil Traversal BST dengan 3 Metode yang Berbeda\\033[0m 🌳\")\n",
        "print(\"\\n🔀 Inorder Traversal\")\n",
        "inorder(root)\n",
        "print()\n",
        "print(\"\\n🔀 Preorder Traversal\")\n",
        "preorder(root)\n",
        "print()\n",
        "print(\"\\n🔀 Postorder Traversal\")\n",
        "postorder(root)\n",
        "print()\n",
        "\n",
        "# Fitur pencarian\n",
        "print()\n",
        "print(\"🔍 \\033[1mHasil Pencarian Elemen dalam BST\\033[0m 🔎\")\n",
        "\n",
        "def search(node, key):\n",
        "    # Memeriksa elemen yang dicari, apakah node kosong atau nilai node sama dengan key\n",
        "    if node is None or node.data == key:\n",
        "        return node\n",
        "\n",
        "    if key < node.data:\n",
        "        return search(node.left, key) # Jika key < root, lanjutkan pencarian ke kiri\n",
        "    return search(node.right, key)  # Jika key > root, lanjutkan pencarian ke kanan\n",
        "\n",
        "# Mencari angka dengan nilai 2 digit terakhir NPM\n",
        "key = 24\n",
        "result = search(root, key)\n",
        "# Cetak hasil pencarian berdasarkan hasil yang diperoleh search()\n",
        "if result:\n",
        "    print(f\"   ✔️ {key} ditemukan dalam Tree\")\n",
        "else:\n",
        "    print(f\"   ❌ {key} tidak ditemukan\")\n",
        "\n",
        "# Mencari angka yang tidak ada dalam data_list\n",
        "key = 11\n",
        "result = search(root, key)\n",
        "# Cetak hasil pencarian berdasarkan hasil yang diperoleh search()\n",
        "if result:\n",
        "    print(f\"   ✔️ {key} ditemukan dalam Tree\")\n",
        "else:\n",
        "    print(f\"   ❌ {key} tidak ditemukan\")"
      ],
      "metadata": {
        "id": "vVE0AeANaElC",
        "colab": {
          "base_uri": "https://localhost:8080/"
        },
        "outputId": "fe7a829f-5761-414d-e98e-5ba4df23a84e"
      },
      "execution_count": 2,
      "outputs": [
        {
          "output_type": "stream",
          "name": "stdout",
          "text": [
            "🌳 \u001b[1mHasil Traversal BST dengan 3 Metode yang Berbeda\u001b[0m 🌳\n",
            "\n",
            "🔀 Inorder Traversal\n",
            "4 5 7 12 24 90 97 \n",
            "\n",
            "🔀 Preorder Traversal\n",
            "24 12 4 7 5 90 97 \n",
            "\n",
            "🔀 Postorder Traversal\n",
            "5 7 4 12 97 90 24 \n",
            "\n",
            "🔍 \u001b[1mHasil Pencarian Elemen dalam BST\u001b[0m 🔎\n",
            "   ✔️ 24 ditemukan dalam Tree\n",
            "   ❌ 11 tidak ditemukan\n"
          ]
        }
      ]
    }
  ]
}