{
  "nbformat": 4,
  "nbformat_minor": 0,
  "metadata": {
    "colab": {
      "provenance": [],
      "authorship_tag": "ABX9TyMkp3AgRe7/5cFfR7KqfZWb",
      "include_colab_link": true
    },
    "kernelspec": {
      "name": "python3",
      "display_name": "Python 3"
    },
    "language_info": {
      "name": "python"
    }
  },
  "cells": [
    {
      "cell_type": "markdown",
      "metadata": {
        "id": "view-in-github",
        "colab_type": "text"
      },
      "source": [
        "<a href=\"https://colab.research.google.com/github/zahrahani/struktur-data/blob/main/2420506024_Tugas_Strukdat_Linked_List.ipynb\" target=\"_parent\"><img src=\"https://colab.research.google.com/assets/colab-badge.svg\" alt=\"Open In Colab\"/></a>"
      ]
    },
    {
      "cell_type": "code",
      "execution_count": 4,
      "metadata": {
        "id": "dV9EXayCsrJb",
        "colab": {
          "base_uri": "https://localhost:8080/"
        },
        "outputId": "d9aacd5c-11ee-424b-f94e-f3a8a00e86c8"
      },
      "outputs": [
        {
          "output_type": "stream",
          "name": "stdout",
          "text": [
            "Masukkan nama satpam ke-1: Zahra Nibras\n",
            "Masukkan nama satpam ke-2: Azzahra Febia\n",
            "Masukkan nama satpam ke-3: Faiz Difa\n",
            "Masukkan nama satpam ke-4: Kanahaya Meilia\n",
            "\n",
            " Jadwal Piket Satpam Selama 2 Minggu:\n",
            "Hari ke-1: Zahra Nibras\n",
            "Hari ke-2: Azzahra Febia\n",
            "Hari ke-3: Faiz Difa\n",
            "Hari ke-4: Kanahaya Meilia\n",
            "Hari ke-5: Zahra Nibras\n",
            "Hari ke-6: Azzahra Febia\n",
            "Hari ke-7: Faiz Difa\n",
            "Hari ke-8: Kanahaya Meilia\n",
            "Hari ke-9: Zahra Nibras\n",
            "Hari ke-10: Azzahra Febia\n",
            "Hari ke-11: Faiz Difa\n",
            "Hari ke-12: Kanahaya Meilia\n",
            "Hari ke-13: Zahra Nibras\n",
            "Hari ke-14: Azzahra Febia\n"
          ]
        }
      ],
      "source": [
        "# Aplikasi Jadwal Piket Satpam\n",
        "\n",
        "# Definisi Node dalam Circular Linked List\n",
        "class PiketSatpam:\n",
        "    def __init__(self, nama_satpam):\n",
        "        self.nama_satpam = nama_satpam\n",
        "        self.next = None\n",
        "\n",
        "class JadwalPiket:\n",
        "    def __init__(self):\n",
        "        self.current = None\n",
        "\n",
        "    # Menambahkan satpam ke daftar jadwal piket\n",
        "    def tambah_satpam(self, nama_satpam):\n",
        "        satpam_baru = PiketSatpam(nama_satpam)\n",
        "        # Jika Linked List kosong\n",
        "        if not self.current:\n",
        "            self.current = satpam_baru\n",
        "            self.current.next = self.current\n",
        "        # Jika Linked List terisi\n",
        "        else:\n",
        "            temp = self.current              # temp = pointer sementara\n",
        "            while temp.next != self.current:\n",
        "                temp = temp.next\n",
        "            temp.next = satpam_baru\n",
        "            satpam_baru.next = self.current\n",
        "\n",
        "    # Menampilkan jadwal piket satpam selama 14 hari\n",
        "    def tampilkan_jadwal(self):\n",
        "        # Jika Linked List kosong\n",
        "        if not self.current:\n",
        "            print(\"\\n Jadwal piket kosong!\")\n",
        "            return\n",
        "\n",
        "        # Jika Linked List terisi\n",
        "        print(\"\\n Jadwal Piket Satpam Selama 2 Minggu:\")\n",
        "        temp = self.current\n",
        "        for hari in range(1, 15):\n",
        "            print(f\"Hari ke-{hari}: {temp.nama_satpam}\")\n",
        "            temp = temp.next\n",
        "\n",
        "# ====== Program Utama (Main) ====== #\n",
        "\n",
        "# Membuat Objek Jadwal Piket\n",
        "piket_satpam = JadwalPiket()\n",
        "\n",
        "# Meminta Pengguna Memasukkan Nama 4 Satpam\n",
        "for i in range(1, 5):\n",
        "    nama_satpam = input(f\"Masukkan nama satpam ke-{i}: \")\n",
        "    piket_satpam.tambah_satpam(nama_satpam)\n",
        "\n",
        "# Menampilkan Jadwal Piket\n",
        "piket_satpam.tampilkan_jadwal()"
      ]
    }
  ]
}